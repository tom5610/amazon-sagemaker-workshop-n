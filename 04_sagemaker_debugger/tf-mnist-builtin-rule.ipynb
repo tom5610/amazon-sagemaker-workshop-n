{
 "cells": [
  {
   "cell_type": "code",
   "execution_count": 2,
   "metadata": {},
   "outputs": [
    {
     "name": "stdout",
     "output_type": "stream",
     "text": [
      "Requirement already satisfied: smdebug in /usr/local/lib/python3.6/site-packages (0.9.3)\n",
      "Collecting matplotlib\n",
      "  Downloading matplotlib-3.3.4-cp36-cp36m-manylinux1_x86_64.whl (11.5 MB)\n",
      "\u001b[K     |████████████████████████████████| 11.5 MB 30.7 MB/s eta 0:00:01\n",
      "\u001b[?25hCollecting kiwisolver>=1.0.1\n",
      "  Downloading kiwisolver-1.3.1-cp36-cp36m-manylinux1_x86_64.whl (1.1 MB)\n",
      "\u001b[K     |████████████████████████████████| 1.1 MB 56.9 MB/s eta 0:00:01\n",
      "\u001b[?25hCollecting cycler>=0.10\n",
      "  Downloading cycler-0.11.0-py3-none-any.whl (6.4 kB)\n",
      "Requirement already satisfied: numpy>=1.15 in /usr/local/lib/python3.6/site-packages (from matplotlib) (1.18.5)\n",
      "Requirement already satisfied: pillow>=6.2.0 in /usr/local/lib/python3.6/site-packages (from matplotlib) (7.2.0)\n",
      "Requirement already satisfied: pyparsing!=2.0.4,!=2.1.2,!=2.1.6,>=2.0.3 in /usr/local/lib/python3.6/site-packages (from matplotlib) (2.4.7)\n",
      "Requirement already satisfied: python-dateutil>=2.1 in /usr/local/lib/python3.6/site-packages (from matplotlib) (2.8.2)\n",
      "Requirement already satisfied: six>=1.5 in /usr/local/lib/python3.6/site-packages (from python-dateutil>=2.1->matplotlib) (1.16.0)\n",
      "Requirement already satisfied: protobuf>=3.6.0 in /usr/local/lib/python3.6/site-packages (from smdebug) (3.15.5)\n",
      "Requirement already satisfied: boto3>=1.10.32 in /usr/local/lib/python3.6/site-packages (from smdebug) (1.17.23)\n",
      "Requirement already satisfied: packaging in /usr/local/lib/python3.6/site-packages (from smdebug) (20.9)\n",
      "Requirement already satisfied: botocore<1.21.0,>=1.20.23 in /usr/local/lib/python3.6/site-packages (from boto3>=1.10.32->smdebug) (1.20.23)\n",
      "Requirement already satisfied: jmespath<1.0.0,>=0.7.1 in /usr/local/lib/python3.6/site-packages (from boto3>=1.10.32->smdebug) (0.10.0)\n",
      "Requirement already satisfied: s3transfer<0.4.0,>=0.3.0 in /usr/local/lib/python3.6/site-packages (from boto3>=1.10.32->smdebug) (0.3.4)\n",
      "Requirement already satisfied: urllib3<1.27,>=1.25.4 in /usr/local/lib/python3.6/site-packages (from botocore<1.21.0,>=1.20.23->boto3>=1.10.32->smdebug) (1.25.11)\n",
      "Installing collected packages: kiwisolver, cycler, matplotlib\n",
      "Successfully installed cycler-0.11.0 kiwisolver-1.3.1 matplotlib-3.3.4\n",
      "\u001b[33mWARNING: You are using pip version 21.0.1; however, version 21.3.1 is available.\n",
      "You should consider upgrading via the '/usr/local/bin/python3.6 -m pip install --upgrade pip' command.\u001b[0m\n"
     ]
    }
   ],
   "source": [
    "!pip install smdebug matplotlib"
   ]
  },
  {
   "cell_type": "markdown",
   "metadata": {
    "papermill": {
     "duration": 0.015745,
     "end_time": "2021-06-01T00:12:47.822109",
     "exception": false,
     "start_time": "2021-06-01T00:12:47.806364",
     "status": "completed"
    },
    "tags": []
   },
   "source": [
    "# Amazon SageMaker Debugger Tutorial: How to Use the Built-in Debugging Rules"
   ]
  },
  {
   "cell_type": "markdown",
   "metadata": {
    "papermill": {
     "duration": 0.015761,
     "end_time": "2021-06-01T00:12:47.853783",
     "exception": false,
     "start_time": "2021-06-01T00:12:47.838022",
     "status": "completed"
    },
    "tags": []
   },
   "source": [
    "[Amazon SageMaker Debugger](https://docs.aws.amazon.com/sagemaker/latest/dg/train-debugger.html) is a feature that offers capability to debug training jobs of your machine learning model and identify training problems in real time. While a training job looks like it's working like a charm, the model might have some common problems, such as loss not decreasing, overfitting, and underfitting. To better understand, practitioners have to debug the training job, while it can be challenging to track and analyze all of the output tensors.\n",
    "\n",
    "SageMaker Debugger covers the major deep learning frameworks (TensorFlow, PyTorch, and MXNet) and machine learning algorithm (XGBoost) to do the debugging jobs with minimal coding. Debugger provides an automatic detection of training problems through its built-in rules, and you can find a full list of the built-in rules for debugging at [List of Debugger Built-in Rules](https://docs.aws.amazon.com/sagemaker/latest/dg/debugger-built-in-rules.html). \n",
    "\n",
    "In this tutorial, you will learn how to use SageMaker Debugger and its built-in rules to debug your model.\n",
    "\n",
    "The workflow is as follows:\n",
    "* [Step 1: Import SageMaker Python SDK and the Debugger client library smdebug](#step1)\n",
    "* [Step 2: Create a Debugger built-in rule list object](#step2)\n",
    "* [Step 3: Construct a SageMaker estimator](#step3)\n",
    "* [Step 4: Run the training job](#step4)\n",
    "* [Step 5: Check training progress on Studio Debugger insights dashboard and the built-in rules evaluation status](#step5)\n",
    "* [Step 6: Create a Debugger trial object to access the saved tensors](#step6)"
   ]
  },
  {
   "cell_type": "markdown",
   "metadata": {
    "papermill": {
     "duration": 0.015708,
     "end_time": "2021-06-01T00:12:47.885275",
     "exception": false,
     "start_time": "2021-06-01T00:12:47.869567",
     "status": "completed"
    },
    "tags": []
   },
   "source": [
    "<a class=\"anchor\" id=\"step2\"></a>\n",
    "## Step 1: Import SageMaker Python SDK and the SMDebug client library"
   ]
  },
  {
   "cell_type": "markdown",
   "metadata": {
    "papermill": {
     "duration": 0.015697,
     "end_time": "2021-06-01T00:12:47.916797",
     "exception": false,
     "start_time": "2021-06-01T00:12:47.901100",
     "status": "completed"
    },
    "tags": []
   },
   "source": [
    "<font color='red'>**Important**</font>: To use the new Debugger features, you need to upgrade the SageMaker Python SDK and the SMDebug libary. In the following cell, change the third line to `install_needed=True` and run to upgrade the libraries."
   ]
  },
  {
   "cell_type": "code",
   "execution_count": 3,
   "metadata": {
    "execution": {
     "iopub.execute_input": "2021-06-01T00:12:47.954649Z",
     "iopub.status.busy": "2021-06-01T00:12:47.954138Z",
     "iopub.status.idle": "2021-06-01T00:12:47.955877Z",
     "shell.execute_reply": "2021-06-01T00:12:47.956215Z"
    },
    "papermill": {
     "duration": 0.023813,
     "end_time": "2021-06-01T00:12:47.956349",
     "exception": false,
     "start_time": "2021-06-01T00:12:47.932536",
     "status": "completed"
    },
    "tags": []
   },
   "outputs": [],
   "source": [
    "import sys\n",
    "import IPython\n",
    "install_needed = False  # Set to True to upgrade\n",
    "if install_needed:\n",
    "    print(\"installing deps and restarting kernel\")\n",
    "    !{sys.executable} -m pip install -U sagemaker\n",
    "    !{sys.executable} -m pip install -U smdebug\n",
    "    IPython.Application.instance().kernel.do_shutdown(True)"
   ]
  },
  {
   "cell_type": "markdown",
   "metadata": {
    "papermill": {
     "duration": 0.015886,
     "end_time": "2021-06-01T00:12:47.988259",
     "exception": false,
     "start_time": "2021-06-01T00:12:47.972373",
     "status": "completed"
    },
    "tags": []
   },
   "source": [
    "Check the SageMaker Python SDK and the SMDebug library versions."
   ]
  },
  {
   "cell_type": "code",
   "execution_count": 4,
   "metadata": {
    "execution": {
     "iopub.execute_input": "2021-06-01T00:12:48.024143Z",
     "iopub.status.busy": "2021-06-01T00:12:48.023410Z",
     "iopub.status.idle": "2021-06-01T00:12:48.473319Z",
     "shell.execute_reply": "2021-06-01T00:12:48.473695Z"
    },
    "papermill": {
     "duration": 0.469517,
     "end_time": "2021-06-01T00:12:48.473846",
     "exception": false,
     "start_time": "2021-06-01T00:12:48.004329",
     "status": "completed"
    },
    "tags": []
   },
   "outputs": [
    {
     "data": {
      "text/plain": [
       "'2.29.0'"
      ]
     },
     "execution_count": 4,
     "metadata": {},
     "output_type": "execute_result"
    }
   ],
   "source": [
    "import sagemaker\n",
    "\n",
    "sagemaker.__version__"
   ]
  },
  {
   "cell_type": "code",
   "execution_count": 5,
   "metadata": {
    "execution": {
     "iopub.execute_input": "2021-06-01T00:12:48.510517Z",
     "iopub.status.busy": "2021-06-01T00:12:48.509765Z",
     "iopub.status.idle": "2021-06-01T00:12:48.592483Z",
     "shell.execute_reply": "2021-06-01T00:12:48.591609Z"
    },
    "papermill": {
     "duration": 0.102182,
     "end_time": "2021-06-01T00:12:48.592688",
     "exception": true,
     "start_time": "2021-06-01T00:12:48.490506",
     "status": "failed"
    },
    "scrolled": true,
    "tags": []
   },
   "outputs": [
    {
     "data": {
      "text/plain": [
       "'0.9.3'"
      ]
     },
     "execution_count": 5,
     "metadata": {},
     "output_type": "execute_result"
    }
   ],
   "source": [
    "import smdebug\n",
    "\n",
    "smdebug.__version__"
   ]
  },
  {
   "cell_type": "markdown",
   "metadata": {
    "papermill": {
     "duration": null,
     "end_time": null,
     "exception": null,
     "start_time": null,
     "status": "pending"
    },
    "tags": []
   },
   "source": [
    "<a class=\"anchor\" id=\"step1\"></a>\n",
    "## Step 2: Create a Debugger built-in rule list object"
   ]
  },
  {
   "cell_type": "code",
   "execution_count": 13,
   "metadata": {
    "papermill": {
     "duration": null,
     "end_time": null,
     "exception": null,
     "start_time": null,
     "status": "pending"
    },
    "tags": []
   },
   "outputs": [],
   "source": [
    "from sagemaker.debugger import (Rule, ProfilerRule,ProfilerConfig,\n",
    "    FrameworkProfile,\n",
    "    DetailedProfilingConfig,\n",
    "    DataloaderProfilingConfig,\n",
    "    PythonProfilingConfig,\n",
    ")"
   ]
  },
  {
   "cell_type": "markdown",
   "metadata": {
    "papermill": {
     "duration": null,
     "end_time": null,
     "exception": null,
     "start_time": null,
     "status": "pending"
    },
    "tags": []
   },
   "source": [
    "The following code cell shows how to configure a rule object for debugging and profiling. For more information about the Debugger built-in rules, see [List of Debugger Built-in Rules](https://docs.aws.amazon.com/sagemaker/latest/dg/debugger-built-in-rules.html)."
   ]
  },
  {
   "cell_type": "code",
   "execution_count": 14,
   "metadata": {
    "papermill": {
     "duration": null,
     "end_time": null,
     "exception": null,
     "start_time": null,
     "status": "pending"
    },
    "tags": []
   },
   "outputs": [],
   "source": [
    "profiler_config = ProfilerConfig(\n",
    "    system_monitor_interval_millis=500,\n",
    "    framework_profile_params=FrameworkProfile(\n",
    "        local_path=\"/opt/ml/output/profiler/\",\n",
    "        detailed_profiling_config=DetailedProfilingConfig(start_step=5, num_steps=3),\n",
    "        dataloader_profiling_config=DataloaderProfilingConfig(start_step=5, num_steps=2),\n",
    "        python_profiling_config=PythonProfilingConfig(start_step=9, num_steps=1),\n",
    "    ),\n",
    ")\n",
    "built_in_rules = [\n",
    "    Rule.sagemaker(rule_configs.overfit()),\n",
    "    ProfilerRule.sagemaker(rule_configs.ProfilerReport()),\n",
    "]"
   ]
  },
  {
   "cell_type": "markdown",
   "metadata": {
    "papermill": {
     "duration": null,
     "end_time": null,
     "exception": null,
     "start_time": null,
     "status": "pending"
    },
    "tags": []
   },
   "source": [
    "<a class=\"anchor\" id=\"step3\"></a>\n",
    "## Step 3: Construct a SageMaker estimator\n",
    "\n",
    "Using the rule object created in the previous cell, construct a SageMaker estimator. \n",
    "\n",
    "The estimator can be one of the SageMaker framework estimators, [TensorFlow](https://sagemaker.readthedocs.io/en/stable/frameworks/tensorflow/sagemaker.tensorflow.html#tensorflow-estimator), [PyTorch](https://sagemaker.readthedocs.io/en/stable/frameworks/pytorch/sagemaker.pytorch.html), [MXNet](https://sagemaker.readthedocs.io/en/stable/frameworks/mxnet/sagemaker.mxnet.html#mxnet-estimator), and [XGBoost](https://sagemaker.readthedocs.io/en/stable/frameworks/xgboost/xgboost.html), or the [SageMaker generic estimator](https://sagemaker.readthedocs.io/en/stable/api/training/estimators.html#sagemaker.estimator.Estimator). For more information about what framework versions are supported, see [Debugger-supported Frameworks and Algorithms](https://docs.aws.amazon.com/sagemaker/latest/dg/train-debugger.html#debugger-supported-aws-containers).\n",
    "\n",
    "In this tutorial, the SageMaker TensorFlow estimator is constructed to run a TensorFlow training script with the Keras ResNet50 model and the cifar10 dataset."
   ]
  },
  {
   "cell_type": "code",
   "execution_count": 15,
   "metadata": {
    "papermill": {
     "duration": null,
     "end_time": null,
     "exception": null,
     "start_time": null,
     "status": "pending"
    },
    "tags": []
   },
   "outputs": [],
   "source": [
    "import boto3\n",
    "from sagemaker.tensorflow import TensorFlow\n",
    "\n",
    "session = boto3.session.Session()\n",
    "region = session.region_name\n",
    "\n",
    "estimator = TensorFlow(\n",
    "    role=sagemaker.get_execution_role(),\n",
    "    instance_count=1,\n",
    "    instance_type=\"ml.p3.8xlarge\",\n",
    "    image_uri=f\"763104351884.dkr.ecr.{region}.amazonaws.com/tensorflow-training:2.3.1-gpu-py37-cu110-ubuntu18.04\",\n",
    "    # framework_version='2.3.1',\n",
    "    # py_version=\"py37\",\n",
    "    max_run=3600,\n",
    "    source_dir=\"./src\",\n",
    "    entry_point=\"tf-resnet50-cifar10.py\",\n",
    "    # Debugger Parameters\n",
    "    rules=built_in_rules,\n",
    "    profiler_config=profiler_config\n",
    ")"
   ]
  },
  {
   "cell_type": "markdown",
   "metadata": {
    "papermill": {
     "duration": null,
     "end_time": null,
     "exception": null,
     "start_time": null,
     "status": "pending"
    },
    "tags": []
   },
   "source": [
    "<a class=\"anchor\" id=\"step4\"></a>\n",
    "## Step 4: Run the training job\n",
    "With the `wait=False` option, you can proceed to the next notebook cell without waiting for the training job logs to be printed out."
   ]
  },
  {
   "cell_type": "code",
   "execution_count": 17,
   "metadata": {
    "papermill": {
     "duration": null,
     "end_time": null,
     "exception": null,
     "start_time": null,
     "status": "pending"
    },
    "tags": []
   },
   "outputs": [
    {
     "name": "stdout",
     "output_type": "stream",
     "text": [
      "2022-01-25 06:16:38 Starting - Starting the training job...\n",
      "2022-01-25 06:17:01 Starting - Launching requested ML instancesOverfit: InProgress\n",
      "ProfilerReport: InProgress\n",
      ".........\n",
      "2022-01-25 06:18:32 Starting - Preparing the instances for training......\n",
      "2022-01-25 06:19:36 Downloading - Downloading input data\n",
      "2022-01-25 06:19:36 Training - Downloading the training image.....................\n",
      "2022-01-25 06:23:03 Training - Training image download completed. Training in progress..\u001b[34m2022-01-25 06:23:04.043730: W tensorflow/core/profiler/internal/smprofiler_timeline.cc:460] Initializing the SageMaker Profiler.\u001b[0m\n",
      "\u001b[34m2022-01-25 06:23:04.047774: I tensorflow/core/profiler/internal/smprofiler_config_reader.cc:123] PID of the process that is writing to the timeline : 1\u001b[0m\n",
      "\u001b[34m2022-01-25 06:23:04.048269: I tensorflow/core/profiler/internal/smprofiler_timeline.cc:121] SageMaker Profiler Timeline Writer read the following config parameters :\u001b[0m\n",
      "\u001b[34m2022-01-25 06:23:04.048291: I tensorflow/core/profiler/internal/smprofiler_timeline.cc:122] Base Folder : /opt/ml/output/profiler/\u001b[0m\n",
      "\u001b[34m2022-01-25 06:23:04.048299: I tensorflow/core/profiler/internal/smprofiler_timeline.cc:123] Node Id : 1-algo-1\u001b[0m\n",
      "\u001b[34m2022-01-25 06:23:04.048306: I tensorflow/core/profiler/internal/smprofiler_timeline.cc:124] Maximum file size : 10485760\u001b[0m\n",
      "\u001b[34m2022-01-25 06:23:04.048311: I tensorflow/core/profiler/internal/smprofiler_timeline.cc:125] Close file interval : 60\u001b[0m\n",
      "\u001b[34m2022-01-25 06:23:04.048316: I tensorflow/core/profiler/internal/smprofiler_timeline.cc:126] Continuous fail count threshold : 50\u001b[0m\n",
      "\u001b[34m2022-01-25 06:23:04.048325: I tensorflow/core/profiler/internal/smprofiler_timeline.cc:144] PID of the current Timeline Process : 1\u001b[0m\n",
      "\u001b[34m2022-01-25 06:23:04.204599: I tensorflow/stream_executor/platform/default/dso_loader.cc:48] Successfully opened dynamic library libcudart.so.11.0\u001b[0m\n",
      "\u001b[34m2022-01-25 06:23:04.277173: W tensorflow/core/profiler/internal/smprofiler_timeline.cc:460] Initializing the SageMaker Profiler.\u001b[0m\n",
      "\u001b[34m2022-01-25 06:23:07,040 sagemaker-training-toolkit INFO     Imported framework sagemaker_tensorflow_container.training\u001b[0m\n",
      "\u001b[34m2022-01-25 06:23:07,615 sagemaker-training-toolkit INFO     Invoking user script\u001b[0m\n",
      "\u001b[34mTraining Env:\u001b[0m\n",
      "\u001b[34m{\n",
      "    \"additional_framework_parameters\": {},\n",
      "    \"channel_input_dirs\": {},\n",
      "    \"current_host\": \"algo-1\",\n",
      "    \"framework_module\": \"sagemaker_tensorflow_container.training:main\",\n",
      "    \"hosts\": [\n",
      "        \"algo-1\"\n",
      "    ],\n",
      "    \"hyperparameters\": {\n",
      "        \"model_dir\": \"s3://sagemaker-us-east-1-524966505555/tensorflow-training-2022-01-25-06-16-04-954/model\"\n",
      "    },\n",
      "    \"input_config_dir\": \"/opt/ml/input/config\",\n",
      "    \"input_data_config\": {},\n",
      "    \"input_dir\": \"/opt/ml/input\",\n",
      "    \"is_master\": true,\n",
      "    \"job_name\": \"tensorflow-training-2022-01-25-06-16-37-714\",\n",
      "    \"log_level\": 20,\n",
      "    \"master_hostname\": \"algo-1\",\n",
      "    \"model_dir\": \"/opt/ml/model\",\n",
      "    \"module_dir\": \"s3://sagemaker-us-east-1-524966505555/tensorflow-training-2022-01-25-06-16-37-714/source/sourcedir.tar.gz\",\n",
      "    \"module_name\": \"tf-resnet50-cifar10\",\n",
      "    \"network_interface_name\": \"eth0\",\n",
      "    \"num_cpus\": 32,\n",
      "    \"num_gpus\": 4,\n",
      "    \"output_data_dir\": \"/opt/ml/output/data\",\n",
      "    \"output_dir\": \"/opt/ml/output\",\n",
      "    \"output_intermediate_dir\": \"/opt/ml/output/intermediate\",\n",
      "    \"resource_config\": {\n",
      "        \"current_host\": \"algo-1\",\n",
      "        \"hosts\": [\n",
      "            \"algo-1\"\n",
      "        ],\n",
      "        \"network_interface_name\": \"eth0\"\n",
      "    },\n",
      "    \"user_entry_point\": \"tf-resnet50-cifar10.py\"\u001b[0m\n",
      "\u001b[34m}\u001b[0m\n",
      "\u001b[34mEnvironment variables:\u001b[0m\n",
      "\u001b[34mSM_HOSTS=[\"algo-1\"]\u001b[0m\n",
      "\u001b[34mSM_NETWORK_INTERFACE_NAME=eth0\u001b[0m\n",
      "\u001b[34mSM_HPS={\"model_dir\":\"s3://sagemaker-us-east-1-524966505555/tensorflow-training-2022-01-25-06-16-04-954/model\"}\u001b[0m\n",
      "\u001b[34mSM_USER_ENTRY_POINT=tf-resnet50-cifar10.py\u001b[0m\n",
      "\u001b[34mSM_FRAMEWORK_PARAMS={}\u001b[0m\n",
      "\u001b[34mSM_RESOURCE_CONFIG={\"current_host\":\"algo-1\",\"hosts\":[\"algo-1\"],\"network_interface_name\":\"eth0\"}\u001b[0m\n",
      "\u001b[34mSM_INPUT_DATA_CONFIG={}\u001b[0m\n",
      "\u001b[34mSM_OUTPUT_DATA_DIR=/opt/ml/output/data\u001b[0m\n",
      "\u001b[34mSM_CHANNELS=[]\u001b[0m\n",
      "\u001b[34mSM_CURRENT_HOST=algo-1\u001b[0m\n",
      "\u001b[34mSM_MODULE_NAME=tf-resnet50-cifar10\u001b[0m\n",
      "\u001b[34mSM_LOG_LEVEL=20\u001b[0m\n",
      "\u001b[34mSM_FRAMEWORK_MODULE=sagemaker_tensorflow_container.training:main\u001b[0m\n",
      "\u001b[34mSM_INPUT_DIR=/opt/ml/input\u001b[0m\n",
      "\u001b[34mSM_INPUT_CONFIG_DIR=/opt/ml/input/config\u001b[0m\n",
      "\u001b[34mSM_OUTPUT_DIR=/opt/ml/output\u001b[0m\n",
      "\u001b[34mSM_NUM_CPUS=32\u001b[0m\n",
      "\u001b[34mSM_NUM_GPUS=4\u001b[0m\n",
      "\u001b[34mSM_MODEL_DIR=/opt/ml/model\u001b[0m\n",
      "\u001b[34mSM_MODULE_DIR=s3://sagemaker-us-east-1-524966505555/tensorflow-training-2022-01-25-06-16-37-714/source/sourcedir.tar.gz\u001b[0m\n",
      "\u001b[34mSM_TRAINING_ENV={\"additional_framework_parameters\":{},\"channel_input_dirs\":{},\"current_host\":\"algo-1\",\"framework_module\":\"sagemaker_tensorflow_container.training:main\",\"hosts\":[\"algo-1\"],\"hyperparameters\":{\"model_dir\":\"s3://sagemaker-us-east-1-524966505555/tensorflow-training-2022-01-25-06-16-04-954/model\"},\"input_config_dir\":\"/opt/ml/input/config\",\"input_data_config\":{},\"input_dir\":\"/opt/ml/input\",\"is_master\":true,\"job_name\":\"tensorflow-training-2022-01-25-06-16-37-714\",\"log_level\":20,\"master_hostname\":\"algo-1\",\"model_dir\":\"/opt/ml/model\",\"module_dir\":\"s3://sagemaker-us-east-1-524966505555/tensorflow-training-2022-01-25-06-16-37-714/source/sourcedir.tar.gz\",\"module_name\":\"tf-resnet50-cifar10\",\"network_interface_name\":\"eth0\",\"num_cpus\":32,\"num_gpus\":4,\"output_data_dir\":\"/opt/ml/output/data\",\"output_dir\":\"/opt/ml/output\",\"output_intermediate_dir\":\"/opt/ml/output/intermediate\",\"resource_config\":{\"current_host\":\"algo-1\",\"hosts\":[\"algo-1\"],\"network_interface_name\":\"eth0\"},\"user_entry_point\":\"tf-resnet50-cifar10.py\"}\u001b[0m\n",
      "\u001b[34mSM_USER_ARGS=[\"--model_dir\",\"s3://sagemaker-us-east-1-524966505555/tensorflow-training-2022-01-25-06-16-04-954/model\"]\u001b[0m\n",
      "\u001b[34mSM_OUTPUT_INTERMEDIATE_DIR=/opt/ml/output/intermediate\u001b[0m\n",
      "\u001b[34mSM_HP_MODEL_DIR=s3://sagemaker-us-east-1-524966505555/tensorflow-training-2022-01-25-06-16-04-954/model\u001b[0m\n",
      "\u001b[34mPYTHONPATH=/opt/ml/code:/usr/local/bin:/usr/local/lib/python37.zip:/usr/local/lib/python3.7:/usr/local/lib/python3.7/lib-dynload:/usr/local/lib/python3.7/site-packages\u001b[0m\n",
      "\u001b[34mInvoking script with the following command:\u001b[0m\n",
      "\u001b[34m/usr/local/bin/python3.7 tf-resnet50-cifar10.py --model_dir s3://sagemaker-us-east-1-524966505555/tensorflow-training-2022-01-25-06-16-04-954/model\u001b[0m\n",
      "\u001b[34m[2022-01-25 06:23:13.875 ip-10-0-209-80.ec2.internal:82 INFO utils.py:27] RULE_JOB_STOP_SIGNAL_FILENAME: None\u001b[0m\n",
      "\u001b[34m[2022-01-25 06:23:13.937 ip-10-0-209-80.ec2.internal:82 INFO profiler_config_parser.py:102] Using config at /opt/ml/input/config/profilerconfig.json.\u001b[0m\n",
      "\u001b[34mDownloading data from https://www.cs.toronto.edu/~kriz/cifar-10-python.tar.gz\u001b[0m\n",
      "\u001b[34m#015     8192/170498071 [..............................] - ETA: 5:30#010#010#010#010#010#010#010#010#010#010#010#010#010#010#010#010#010#010#010#010#010#010#010#010#010#010#010#010#010#010#010#010#010#010#010#010#010#010#010#010#010#010#010#010#010#010#010#010#010#010#010#010#010#010#010#010#010#010#010#010#010#010#010#010#015   221184/170498071 [..............................] - ETA: 59s #010#010#010#010#010#010#010#010#010#010#010#010#010#010#010#010#010#010#010#010#010#010#010#010#010#010#010#010#010#010#010#010#010#010#010#010#010#010#010#010#010#010#010#010#010#010#010#010#010#010#010#010#010#010#010#010#010#010#010#010#010#010#010#015  1024000/170498071 [..............................] - ETA: 21s#010#010#010#010#010#010#010#010#010#010#010#010#010#010#010#010#010#010#010#010#010#010#010#010#010#010#010#010#010#010#010#010#010#010#010#010#010#010#010#010#010#010#010#010#010#010#010#010#010#010#010#010#010#010#010#010#010#010#010#010#010#010#010#015  2383872/170498071 [..............................] - ETA: 12s#010#010#010#010#010#010#010#010#010#010#010#010#010#010#010#010#010#010#010#010#010#010#010#010#010#010#010#010#010#010#010#010#010#010#010#010#010#010#010#010#010#010#010#010#010#010#010#010#010#010#010#010#010#010#010#010#010#010#010#010#010#010#010#015  3907584/170498071 [..............................] - ETA: 9s #010#010#010#010#010#010#010#010#010#010#010#010#010#010#010#010#010#010#010#010#010#010#010#010#010#010#010#010#010#010#010#010#010#010#010#010#010#010#010#010#010#010#010#010#010#010#010#010#010#010#010#010#010#010#010#010#010#010#010#010#010#010#015  5439488/170498071 [..............................] - ETA: 8s#010#010#010#010#010#010#010#010#010#010#010#010#010#010#010#010#010#010#010#010#010#010#010#010#010#010#010#010#010#010#010#010#010#010#010#010#010#010#010#010#010#010#010#010#010#010#010#010#010#010#010#010#010#010#010#010#010#010#010#010#010#010#015  6963200/170498071 [>.............................] - ETA: 7s#010#010#010#010#010#010#010#010#010#010#010#010#010#010#010#010#010#010#010#010#010#010#010#010#010#010#010#010#010#010#010#010#010#010#010#010#010#010#010#010#010#010#010#010#010#010#010#010#010#010#010#010#010#010#010#010#010#010#010#010#010#010#015  8486912/170498071 [>.............................] - ETA: 7s#010#010#010#010#010#010#010#010#010#010#010#010#010#010#010#010#010#010#010#010#010#010#010#010#010#010#010#010#010#010#010#010#010#010#010#010#010#010#010#010#010#010#010#010#010#010#010#010#010#010#010#010#010#010#010#010#010#010#010#010#010#010#015 10018816/170498071 [>.............................] - ETA: 6s#010#010#010#010#010#010#010#010#010#010#010#010#010#010#010#010#010#010#010#010#010#010#010#010#010#010#010#010#010#010#010#010#010#010#010#010#010#010#010#010#010#010#010#010#010#010#010#010#010#010#010#010#010#010#010#010#010#010#010#010#010#010#015 11567104/170498071 [=>............................] - ETA: 6s#010#010#010#010#010#010#010#010#010#010#010#010#010#010#010#010#010#010#010#010#010#010#010#010#010#010#010#010#010#010#010#010#010#010#010#010#010#010#010#010#010#010#010#010#010#010#010#010#010#010#010#010#010#010#010#010#010#010#010#010#010#010#015 13099008/170498071 [=>............................] - ETA: 6s#010#010#010#010#010#010#010#010#010#010#010#010#010#010#010#010#010#010#010#010#010#010#010#010#010#010#010#010#010#010#010#010#010#010#010#010#010#010#010#010#010#010#010#010#010#010#010#010#010#010#010#010#010#010#010#010#010#010#010#010#010#010#015 14639104/170498071 [=>............................] - ETA: 6s#010#010#010#010#010#010#010#010#010#010#010#010#010#010#010#010#010#010#010#010#010#010#010#010#010#010#010#010#010#010#010#010#010#010#010#010#010#010#010#010#010#010#010#010#010#010#010#010#010#010#010#010#010#010#010#010#010#010#010#010#010#010#015 16154624/170498071 [=>............................] - ETA: 6s#010#010#010#010#010#010#010#010#010#010#010#010#010#010#010#010#010#010#010#010#010#010#010#010#010#010#010#010#010#010#010#010#010#010#010#010#010#010#010#010#010#010#010#010#010#010#010#010#010#010#010#010#010#010#010#010#010#010#010#010#010#010#015 17678336/170498071 [==>...........................] - ETA: 5s#010#010#010#010#010#010#010#010#010#010#010#010#010#010#010#010#010#010#010#010#010#010#010#010#010#010#010#010#010#010#010#010#010#010#010#010#010#010#010#010#010#010#010#010#010#010#010#010#010#010#010#010#010#010#010#010#010#010#010#010#010#010#015 19202048/170498071 [==>...........................] - ETA: 5s#010#010#010#010#010#010#010#010#010#010#010#010#010#010#010#010#010#010#010#010#010#010#010#010#010#010#010#010#010#010#010#010#010#010#010#010#010#010#010#010#010#010#010#010#010#010#010#010#010#010#010#010#010#010#010#010#010#010#010#010#010#010#015 20717568/170498071 [==>...........................] - ETA: 5s#010#010#010#010#010#010#010#010#010#010#010#010#010#010#010#010#010#010#010#010#010#010#010#010#010#010#010#010#010#010#010#010#010#010#010#010#010#010#010#010#010#010#010#010#010#010#010#010#010#010#010#010#010#010#010#010#010#010#010#010#010#010#015 22249472/170498071 [==>...........................] - ETA: 5s#010#010#010#010#010#010#010#010#010#010#010#010#010#010#010#010#010#010#010#010#010#010#010#010#010#010#010#010#010#010#010#010#010#010#010#010#010#010#010#010#010#010#010#010#010#010#010#010#010#010#010#010#010#010#010#010#010#010#010#010#010#010#015 23781376/170498071 [===>..........................] - ETA: 5s#010#010#010#010#010#010#010#010#010#010#010#010#010#010#010#010#010#010#010#010#010#010#010#010#010#010#010#010#010#010#010#010#010#010#010#010#010#010#010#010#010#010#010#010#010#010#010#010#010#010#010#010#010#010#010#010#010#010#010#010#010#010#015 25337856/170498071 [===>..........................] - ETA: 5s#010#010#010#010#010#010#010#010#010#010#010#010#010#010#010#010#010#010#010#010#010#010#010#010#010#010#010#010#010#010#010#010#010#010#010#010#010#010#010#010#010#010#010#010#010#010#010#010#010#010#010#010#010#010#010#010#010#010#010#010#010#010#015 26861568/170498071 [===>..........................] - ETA: 5s#010#010#010#010#010#010#010#010#010#010#010#010#010#010#010#010#010#010#010#010#010#010#010#010#010#010#010#010#010#010#010#010#010#010#010#010#010#010#010#010#010#010#010#010#010#010#010#010#010#010#010#010#010#010#010#010#010#010#010#010#010#010#015 28401664/170498071 [===>..........................] - ETA: 5s#010#010#010#010#010#010#010#010#010#010#010#010#010#010#010#010#010#010#010#010#010#010#010#010#010#010#010#010#010#010#010#010#010#010#010#010#010#010#010#010#010#010#010#010#010#010#010#010#010#010#010#010#010#010#010#010#010#010#010#010#010#010#015 29908992/170498071 [====>.........................] - ETA: 5s#010#010#010#010#010#010#010#010#010#010#010#010#010#010#010#010#010#010#010#010#010#010#010#010#010#010#010#010#010#010#010#010#010#010#010#010#010#010#010#010#010#010#010#010#010#010#010#010#010#010#010#010#010#010#010#010#010#010#010#010#010#010#015 31449088/170498071 [====>.........................] - ETA: 4s#010#010#010#010#010#010#010#010#010#010#010#010#010#010#010#010#010#010#010#010#010#010#010#010#010#010#010#010#010#010#010#010#010#010#010#010#010#010#010#010#010#010#010#010#010#010#010#010#010#010#010#010#010#010#010#010#010#010#010#010#010#010#015 32915456/170498071 [====>.........................] - ETA: 4s#010#010#010#010#010#010#010#010#010#010#010#010#010#010#010#010#010#010#010#010#010#010#010#010#010#010#010#010#010#010#010#010#010#010#010#010#010#010#010#010#010#010#010#010#010#010#010#010#010#010#010#010#010#010#010#010#010#010#010#010#010#010#015 34447360/170498071 [=====>........................] - ETA: 4s#010#010#010#010#010#010#010#010#010#010#010#010#010#010#010#010#010#010#010#010#010#010#010#010#010#010#010#010#010#010#010#010#010#010#010#010#010#010#010#010#010#010#010#010#010#010#010#010#010#010#010#010#010#010#010#010#010#010#010#010#010#010#015 35987456/170498071 [=====>........................] - ETA: 4s#010#010#010#010#010#010#010#010#010#010#010#010#010#010#010#010#010#010#010#010#010#010#010#010#010#010#010#010#010#010#010#010#010#010#010#010#010#010#010#010#010#010#010#010#010#010#010#010#010#010#010#010#010#010#010#010#010#010#010#010#010#010#015 37502976/170498071 [=====>........................] - ETA: 4s#010#010#010#010#010#010#010#010#010#010#010#010#010#010#010#010#010#010#010#010#010#010#010#010#010#010#010#010#010#010#010#010#010#010#010#010#010#010#010#010#010#010#010#010#010#010#010#010#010#010#010#010#010#010#010#010#010#010#010#010#010#010#015 39059456/170498071 [=====>........................] - ETA: 4s#010#010#010#010#010#010#010#010#010#010#010#010#010#010#010#010#010#010#010#010#010#010#010#010#010#010#010#010#010#010#010#010#010#010#010#010#010#010#010#010#010#010#010#010#010#010#010#010#010#010#010#010#010#010#010#010#010#010#010#010#010#010#015 40583168/170498071 [======>.......................] - ETA: 4s#010#010#010#010#010#010#010#010#010#010#010#010#010#010#010#010#010#010#010#010#010#010#010#010#010#010#010#010#010#010#010#010#010#010#010#010#010#010#010#010#010#010#010#010#010#010#010#010#010#010#010#010#010#010#010#010#010#010#010#010#010#010#015 42115072/170498071 [======>.......................] - ETA: 4s#010#010#010#010#010#010#010#010#010#010#010#010#010#010#010#010#010#010#010#010#010#010#010#010#010#010#010#010#010#010#010#010#010#010#010#010#010#010#010#010#010#010#010#010#010#010#010#010#010#010#010#010#010#010#010#010#010#010#010#010#010#010#015 43630592/170498071 [======>.......................] - ETA: 4s#010#010#010#010#010#010#010#010#010#010#010#010#010#010#010#010#010#010#010#010#010#010#010#010#010#010#010#010#010#010#010#010#010#010#010#010#010#010#010#010#010#010#010#010#010#010#010#010#010#010#010#010#010#010#010#010#010#010#010#010#010#010#015 45162496/170498071 [======>.......................] - ETA: 4s#010#010#010#010#010#010#010#010#010#010#010#010#010#010#010#010#010#010#010#010#010#010#010#010#010#010#010#010#010#010#010#010#010#010#010#010#010#010#010#010#010#010#010#010#010#010#010#010#010#010#010#010#010#010#010#010#010#010#010#010#010#010#015 46710784/170498071 [=======>......................] - ETA: 4s#010#010#010#010#010#010#010#010#010#010#010#010#010#010#010#010#010#010#010#010#010#010#010#010#010#010#010#010#010#010#010#010#010#010#010#010#010#010#010#010#010#010#010#010#010#010#010#010#010#010#010#010#010#010#010#010#010#010#010#010#010#010#015 48226304/170498071 [=======>......................] - ETA: 4s#010#010#010#010#010#010#010#010#010#010#010#010#010#010#010#010#010#010#010#010#010#010#010#010#010#010#010#010#010#010#010#010#010#010#010#010#010#010#010#010#010#010#010#010#010#010#010#010#010#010#010#010#010#010#010#010#010#010#010#010#010#010#015 49774592/170498071 [=======>......................] - ETA: 4s#010#010#010#010#010#010#010#010#010#010#010#010#010#010#010#010#010#010#010#010#010#010#010#010#010#010#010#010#010#010#010#010#010#010#010#010#010#010#010#010#010#010#010#010#010#010#010#010#010#010#010#010#010#010#010#010#010#010#010#010#010#010#015 51273728/170498071 [========>.....................] - ETA: 4s#010#010#010#010#010#010#010#010#010#010#010#010#010#010#010#010#010#010#010#010#010#010#010#010#010#010#010#010#010#010#010#010#010#010#010#010#010#010#010#010#010#010#010#010#010#010#010#010#010#010#010#010#010#010#010#010#010#010#010#010#010#010#015 52789248/170498071 [========>.....................] - ETA: 4s#010#010#010#010#010#010#010#010#010#010#010#010#010#010#010#010#010#010#010#010#010#010#010#010#010#010#010#010#010#010#010#010#010#010#010#010#010#010#010#010#010#010#010#010#010#010#010#010#010#010#010#010#010#010#010#010#010#010#010#010#010#010#015 54321152/170498071 [========>.....................] - ETA: 4s#010#010#010#010#010#010#010#010#010#010#010#010#010#010#010#010#010#010#010#010#010#010#010#010#010#010#010#010#010#010#010#010#010#010#010#010#010#010#010#010#010#010#010#010#010#010#010#010#010#010#010#010#010#010#010#010#010#010#010#010#010#010#015 55861248/170498071 [========>.....................] - ETA: 3s#010#010#010#010#010#010#010#010#010#010#010#010#010#010#010#010#010#010#010#010#010#010#010#010#010#010#010#010#010#010#010#010#010#010#010#010#010#010#010#010#010#010#010#010#010#010#010#010#010#010#010#010#010#010#010#010#010#010#010#010#010#010#015 57401344/170498071 [=========>....................] - ETA: 3s#010#010#010#010#010#010#010#010#010#010#010#010#010#010#010#010#010#010#010#010#010#010#010#010#010#010#010#010#010#010#010#010#010#010#010#010#010#010#010#010#010#010#010#010#010#010#010#010#010#010#010#010#010#010#010#010#010#010#010#010#010#010#015 58933248/170498071 [=========>....................] - ETA: 3s#010#010#010#010#010#010#010#010#010#010#010#010#010#010#010#010#010#010#010#010#010#010#010#010#010#010#010#010#010#010#010#010#010#010#010#010#010#010#010#010#010#010#010#010#010#010#010#010#010#010#010#010#010#010#010#010#010#010#010#010#010#010#015 60481536/170498071 [=========>....................] - ETA: 3s#010#010#010#010#010#010#010#010#010#010#010#010#010#010#010#010#010#010#010#010#010#010#010#010#010#010#010#010#010#010#010#010#010#010#010#010#010#010#010#010#010#010#010#010#010#010#010#010#010#010#010#010#010#010#010#010#010#010#010#010#010#010#015 62005248/170498071 [=========>....................] - ETA: 3s#010#010#010#010#010#010#010#010#010#010#010#010#010#010#010#010#010#010#010#010#010#010#010#010#010#010#010#010#010#010#010#010#010#010#010#010#010#010#010#010#010#010#010#010#010#010#010#010#010#010#010#010#010#010#010#010#010#010#010#010#010#010#015 63512576/170498071 [==========>...................] - ETA: 3s#010#010#010#010#010#010#010#010#010#010#010#010#010#010#010#010#010#010#010#010#010#010#010#010#010#010#010#010#010#010#010#010#010#010#010#010#010#010#010#010#010#010#010#010#010#010#010#010#010#010#010#010#010#010#010#010#010#010#010#010#010#010#015 65019904/170498071 [==========>...................] - ETA: 3s#010#010#010#010#010#010#010#010#010#010#010#010#010#010#010#010#010#010#010#010#010#010#010#010#010#010#010#010#010#010#010#010#010#010#010#010#010#010#010#010#010#010#010#010#010#010#010#010#010#010#010#010#010#010#010#010#010#010#010#010#010#010#015 66560000/170498071 [==========>...................] - ETA: 3s#010#010#010#010#010#010#010#010#010#010#010#010#010#010#010#010#010#010#010#010#010#010#010#010#010#010#010#010#010#010#010#010#010#010#010#010#010#010#010#010#010#010#010#010#010#010#010#010#010#010#010#010#010#010#010#010#010#010#010#010#010#010#015 68091904/170498071 [==========>...................] - ETA: 3s#010#010#010#010#010#010#010#010#010#010#010#010#010#010#010#010#010#010#010#010#010#010#010#010#010#010#010#010#010#010#010#010#010#010#010#010#010#010#010#010#010#010#010#010#010#010#010#010#010#010#010#010#010#010#010#010#010#010#010#010#010#010#015 69599232/170498071 [===========>..................] - ETA: 3s#010#010#010#010#010#010#010#010#010#010#010#010#010#010#010#010#010#010#010#010#010#010#010#010#010#010#010#010#010#010#010#010#010#010#010#010#010#010#010#010#010#010#010#010#010#010#010#010#010#010#010#010#010#010#010#010#010#010#010#010#010#010#015 71155712/170498071 [===========>..................] - ETA: 3s#010#010#010#010#010#010#010#010#010#010#010#010#010#010#010#010#010#010#010#010#010#010#010#010#010#010#010#010#010#010#010#010#010#010#010#010#010#010#010#010#010#010#010#010#010#010#010#010#010#010#010#010#010#010#010#010#010#010#010#010#010#010#015 72654848/170498071 [===========>..................] - ETA: 3s#010#010#010#010#010#010#010#010#010#010#010#010#010#010#010#010#010#010#010#010#010#010#010#010#010#010#010#010#010#010#010#010#010#010#010#010#010#010#010#010#010#010#010#010#010#010#010#010#010#010#010#010#010#010#010#010#010#010#010#010#010#010#015 74203136/170498071 [============>.................] - ETA: 3s#010#010#010#010#010#010#010#010#010#010#010#010#010#010#010#010#010#010#010#010#010#010#010#010#010#010#010#010#010#010#010#010#010#010#010#010#010#010#010#010#010#010#010#010#010#010#010#010#010#010#010#010#010#010#010#010#010#010#010#010#010#010#015 75710464/170498071 [============>.................] - ETA: 3s#010#010#010#010#010#010#010#010#010#010#010#010#010#010#010#010#010#010#010#010#010#010#010#010#010#010#010#010#010#010#010#010#010#010#010#010#010#010#010#010#010#010#010#010#010#010#010#010#010#010#010#010#010#010#010#010#010#010#010#010#010#010#015 77250560/170498071 [============>.................] - ETA: 3s#010#010#010#010#010#010#010#010#010#010#010#010#010#010#010#010#010#010#010#010#010#010#010#010#010#010#010#010#010#010#010#010#010#010#010#010#010#010#010#010#010#010#010#010#010#010#010#010#010#010#010#010#010#010#010#010#010#010#010#010#010#010#015 78782464/170498071 [============>.................] - ETA: 3s#010#010#010#010#010#010#010#010#010#010#010#010#010#010#010#010#010#010#010#010#010#010#010#010#010#010#010#010#010#010#010#010#010#010#010#010#010#010#010#010#010#010#010#010#010#010#010#010#010#010#010#010#010#010#010#010#010#010#010#010#010#010#015 80306176/170498071 [=============>................] - ETA: 3s#010#010#010#010#010#010#010#010#010#010#010#010#010#010#010#010#010#010#010#010#010#010#010#010#010#010#010#010#010#010#010#010#010#010#010#010#010#010#010#010#010#010#010#010#010#010#010#010#010#010#010#010#010#010#010#010#010#010#010#010#010#010#015 81870848/170498071 [=============>................] - ETA: 3s#010#010#010#010#010#010#010#010#010#010#010#010#010#010#010#010#010#010#010#010#010#010#010#010#010#010#010#010#010#010#010#010#010#010#010#010#010#010#010#010#010#010#010#010#010#010#010#010#010#010#010#010#010#010#010#010#010#010#010#010#010#010#015 83378176/170498071 [=============>................] - ETA: 2s#010#010#010#010#010#010#010#010#010#010#010#010#010#010#010#010#010#010#010#010#010#010#010#010#010#010#010#010#010#010#010#010#010#010#010#010#010#010#010#010#010#010#010#010#010#010#010#010#010#010#010#010#010#010#010#010#010#010#010#010#010#010#015 84918272/170498071 [=============>................] - ETA: 2s#010#010#010#010#010#010#010#010#010#010#010#010#010#010#010#010#010#010#010#010#010#010#010#010#010#010#010#010#010#010#010#010#010#010#010#010#010#010#010#010#010#010#010#010#010#010#010#010#010#010#010#010#010#010#010#010#010#010#010#010#010#010#015 86433792/170498071 [==============>...............] - ETA: 2s#010#010#010#010#010#010#010#010#010#010#010#010#010#010#010#010#010#010#010#010#010#010#010#010#010#010#010#010#010#010#010#010#010#010#010#010#010#010#010#010#010#010#010#010#010#010#010#010#010#010#010#010#010#010#010#010#010#010#010#010#010#010#015 87957504/170498071 [==============>...............] - ETA: 2s#010#010#010#010#010#010#010#010#010#010#010#010#010#010#010#010#010#010#010#010#010#010#010#010#010#010#010#010#010#010#010#010#010#010#010#010#010#010#010#010#010#010#010#010#010#010#010#010#010#010#010#010#010#010#010#010#010#010#010#010#010#010#015 89473024/170498071 [==============>...............] - ETA: 2s#010#010#010#010#010#010#010#010#010#010#010#010#010#010#010#010#010#010#010#010#010#010#010#010#010#010#010#010#010#010#010#010#010#010#010#010#010#010#010#010#010#010#010#010#010#010#010#010#010#010#010#010#010#010#010#010#010#010#010#010#010#010#015 91013120/170498071 [===============>..............] - ETA: 2s#010#010#010#010#010#010#010#010#010#010#010#010#010#010#010#010#010#010#010#010#010#010#010#010#010#010#010#010#010#010#010#010#010#010#010#010#010#010#010#010#010#010#010#010#010#010#010#010#010#010#010#010#010#010#010#010#010#010#010#010#010#010#015 92561408/170498071 [===============>..............] - ETA: 2s#010#010#010#010#010#010#010#010#010#010#010#010#010#010#010#010#010#010#010#010#010#010#010#010#010#010#010#010#010#010#010#010#010#010#010#010#010#010#010#010#010#010#010#010#010#010#010#010#010#010#010#010#010#010#010#010#010#010#010#010#010#010#015 94052352/170498071 [===============>..............] - ETA: 2s#010#010#010#010#010#010#010#010#010#010#010#010#010#010#010#010#010#010#010#010#010#010#010#010#010#010#010#010#010#010#010#010#010#010#010#010#010#010#010#010#010#010#010#010#010#010#010#010#010#010#010#010#010#010#010#010#010#010#010#010#010#010#015 95567872/170498071 [===============>..............] - ETA: 2s#010#010#010#010#010#010#010#010#010#010#010#010#010#010#010#010#010#010#010#010#010#010#010#010#010#010#010#010#010#010#010#010#010#010#010#010#010#010#010#010#010#010#010#010#010#010#010#010#010#010#010#010#010#010#010#010#010#010#010#010#010#010#015 97075200/170498071 [================>.............] - ETA: 2s#010#010#010#010#010#010#010#010#010#010#010#010#010#010#010#010#010#010#010#010#010#010#010#010#010#010#010#010#010#010#010#010#010#010#010#010#010#010#010#010#010#010#010#010#010#010#010#010#010#010#010#010#010#010#010#010#010#010#010#010#010#010#015 98598912/170498071 [================>.............] - ETA: 2s#010#010#010#010#010#010#010#010#010#010#010#010#010#010#010#010#010#010#010#010#010#010#010#010#010#010#010#010#010#010#010#010#010#010#010#010#010#010#010#010#010#010#010#010#010#010#010#010#010#010#010#010#010#010#010#010#010#010#010#010#010#010#015 99999744/170498071 [================>.............] - ETA: 2s#010#010#010#010#010#010#010#010#010#010#010#010#010#010#010#010#010#010#010#010#010#010#010#010#010#010#010#010#010#010#010#010#010#010#010#010#010#010#010#010#010#010#010#010#010#010#010#010#010#010#010#010#010#010#010#010#010#010#010#010#010#010#015101335040/170498071 [================>.............] - ETA: 2s#010#010#010#010#010#010#010#010#010#010#010#010#010#010#010#010#010#010#010#010#010#010#010#010#010#010#010#010#010#010#010#010#010#010#010#010#010#010#010#010#010#010#010#010#010#010#010#010#010#010#010#010#010#010#010#010#010#010#010#010#010#010#015102899712/170498071 [=================>............] - ETA: 2s#010#010#010#010#010#010#010#010#010#010#010#010#010#010#010#010#010#010#010#010#010#010#010#010#010#010#010#010#010#010#010#010#010#010#010#010#010#010#010#010#010#010#010#010#010#010#010#010#010#010#010#010#010#010#010#010#010#010#010#010#010#010#015104423424/170498071 [=================>............] - ETA: 2s#010#010#010#010#010#010#010#010#010#010#010#010#010#010#010#010#010#010#010#010#010#010#010#010#010#010#010#010#010#010#010#010#010#010#010#010#010#010#010#010#010#010#010#010#010#010#010#010#010#010#010#010#010#010#010#010#010#010#010#010#010#010#015105947136/170498071 [=================>............] - ETA: 2s#010#010#010#010#010#010#010#010#010#010#010#010#010#010#010#010#010#010#010#010#010#010#010#010#010#010#010#010#010#010#010#010#010#010#010#010#010#010#010#010#010#010#010#010#010#010#010#010#010#010#010#010#010#010#010#010#010#010#010#010#010#010#015107470848/170498071 [=================>............] - ETA: 2s#010#010#010#010#010#010#010#010#010#010#010#010#010#010#010#010#010#010#010#010#010#010#010#010#010#010#010#010#010#010#010#010#010#010#010#010#010#010#010#010#010#010#010#010#010#010#010#010#010#010#010#010#010#010#010#010#010#010#010#010#010#010#015108994560/170498071 [==================>...........] - ETA: 2s#010#010#010#010#010#010#010#010#010#010#010#010#010#010#010#010#010#010#010#010#010#010#010#010#010#010#010#010#010#010#010#010#010#010#010#010#010#010#010#010#010#010#010#010#010#010#010#010#010#010#010#010#010#010#010#010#010#010#010#010#010#010#015110526464/170498071 [==================>...........] - ETA: 2s#010#010#010#010#010#010#010#010#010#010#010#010#010#010#010#010#010#010#010#010#010#010#010#010#010#010#010#010#010#010#010#010#010#010#010#010#010#010#010#010#010#010#010#010#010#010#010#010#010#010#010#010#010#010#010#010#010#010#010#010#010#010#015112041984/170498071 [==================>...........] - ETA: 1s#010#010#010#010#010#010#010#010#010#010#010#010#010#010#010#010#010#010#010#010#010#010#010#010#010#010#010#010#010#010#010#010#010#010#010#010#010#010#010#010#010#010#010#010#010#010#010#010#010#010#010#010#010#010#010#010#010#010#010#010#010#010#015113606656/170498071 [==================>...........] - ETA: 1s#010#010#010#010#010#010#010#010#010#010#010#010#010#010#010#010#010#010#010#010#010#010#010#010#010#010#010#010#010#010#010#010#010#010#010#010#010#010#010#010#010#010#010#010#010#010#010#010#010#010#010#010#010#010#010#010#010#010#010#010#010#010#015115130368/170498071 [===================>..........] - ETA: 1s#010#010#010#010#010#010#010#010#010#010#010#010#010#010#010#010#010#010#010#010#010#010#010#010#010#010#010#010#010#010#010#010#010#010#010#010#010#010#010#010#010#010#010#010#010#010#010#010#010#010#010#010#010#010#010#010#010#010#010#010#010#010#015116662272/170498071 [===================>..........] - ETA: 1s#010#010#010#010#010#010#010#010#010#010#010#010#010#010#010#010#010#010#010#010#010#010#010#010#010#010#010#010#010#010#010#010#010#010#010#010#010#010#010#010#010#010#010#010#010#010#010#010#010#010#010#010#010#010#010#010#010#010#010#010#010#010#015118194176/170498071 [===================>..........] - ETA: 1s#010#010#010#010#010#010#010#010#010#010#010#010#010#010#010#010#010#010#010#010#010#010#010#010#010#010#010#010#010#010#010#010#010#010#010#010#010#010#010#010#010#010#010#010#010#010#010#010#010#010#010#010#010#010#010#010#010#010#010#010#010#010#015119717888/170498071 [====================>.........] - ETA: 1s#010#010#010#010#010#010#010#010#010#010#010#010#010#010#010#010#010#010#010#010#010#010#010#010#010#010#010#010#010#010#010#010#010#010#010#010#010#010#010#010#010#010#010#010#010#010#010#010#010#010#010#010#010#010#010#010#010#010#010#010#010#010#015121241600/170498071 [====================>.........] - ETA: 1s#010#010#010#010#010#010#010#010#010#010#010#010#010#010#010#010#010#010#010#010#010#010#010#010#010#010#010#010#010#010#010#010#010#010#010#010#010#010#010#010#010#010#010#010#010#010#010#010#010#010#010#010#010#010#010#010#010#010#010#010#010#010#015122781696/170498071 [====================>.........] - ETA: 1s#010#010#010#010#010#010#010#010#010#010#010#010#010#010#010#010#010#010#010#010#010#010#010#010#010#010#010#010#010#010#010#010#010#010#010#010#010#010#010#010#010#010#010#010#010#010#010#010#010#010#010#010#010#010#010#010#010#010#010#010#010#010#015124321792/170498071 [====================>.........] - ETA: 1s#010#010#010#010#010#010#010#010#010#010#010#010#010#010#010#010#010#010#010#010#010#010#010#010#010#010#010#010#010#010#010#010#010#010#010#010#010#010#010#010#010#010#010#010#010#010#010#010#010#010#010#010#010#010#010#010#010#010#010#010#010#010#015125829120/170498071 [=====================>........] - ETA: 1s#010#010#010#010#010#010#010#010#010#010#010#010#010#010#010#010#010#010#010#010#010#010#010#010#010#010#010#010#010#010#010#010#010#010#010#010#010#010#010#010#010#010#010#010#010#010#010#010#010#010#010#010#010#010#010#010#010#010#010#010#010#010#015127369216/170498071 [=====================>........] - ETA: 1s#010#010#010#010#010#010#010#010#010#010#010#010#010#010#010#010#010#010#010#010#010#010#010#010#010#010#010#010#010#010#010#010#010#010#010#010#010#010#010#010#010#010#010#010#010#010#010#010#010#010#010#010#010#010#010#010#010#010#010#010#010#010#015128876544/170498071 [=====================>........] - ETA: 1s#010#010#010#010#010#010#010#010#010#010#010#010#010#010#010#010#010#010#010#010#010#010#010#010#010#010#010#010#010#010#010#010#010#010#010#010#010#010#010#010#010#010#010#010#010#010#010#010#010#010#010#010#010#010#010#010#010#010#010#010#010#010#015130408448/170498071 [=====================>........] - ETA: 1s#010#010#010#010#010#010#010#010#010#010#010#010#010#010#010#010#010#010#010#010#010#010#010#010#010#010#010#010#010#010#010#010#010#010#010#010#010#010#010#010#010#010#010#010#010#010#010#010#010#010#010#010#010#010#010#010#010#010#010#010#010#010#015131932160/170498071 [======================>.......] - ETA: 1s#010#010#010#010#010#010#010#010#010#010#010#010#010#010#010#010#010#010#010#010#010#010#010#010#010#010#010#010#010#010#010#010#010#010#010#010#010#010#010#010#010#010#010#010#010#010#010#010#010#010#010#010#010#010#010#010#010#010#010#010#010#010#015133455872/170498071 [======================>.......] - ETA: 1s#010#010#010#010#010#010#010#010#010#010#010#010#010#010#010#010#010#010#010#010#010#010#010#010#010#010#010#010#010#010#010#010#010#010#010#010#010#010#010#010#010#010#010#010#010#010#010#010#010#010#010#010#010#010#010#010#010#010#010#010#010#010#015134995968/170498071 [======================>.......] - ETA: 1s#010#010#010#010#010#010#010#010#010#010#010#010#010#010#010#010#010#010#010#010#010#010#010#010#010#010#010#010#010#010#010#010#010#010#010#010#010#010#010#010#010#010#010#010#010#010#010#010#010#010#010#010#010#010#010#010#010#010#010#010#010#010#015136527872/170498071 [=======================>......] - ETA: 1s#010#010#010#010#010#010#010#010#010#010#010#010#010#010#010#010#010#010#010#010#010#010#010#010#010#010#010#010#010#010#010#010#010#010#010#010#010#010#010#010#010#010#010#010#010#010#010#010#010#010#010#010#010#010#010#010#010#010#010#010#010#010#015138076160/170498071 [=======================>......] - ETA: 1s#010#010#010#010#010#010#010#010#010#010#010#010#010#010#010#010#010#010#010#010#010#010#010#010#010#010#010#010#010#010#010#010#010#010#010#010#010#010#010#010#010#010#010#010#010#010#010#010#010#010#010#010#010#010#010#010#010#010#010#010#010#010#015139575296/170498071 [=======================>......] - ETA: 1s#010#010#010#010#010#010#010#010#010#010#010#010#010#010#010#010#010#010#010#010#010#010#010#010#010#010#010#010#010#010#010#010#010#010#010#010#010#010#010#010#010#010#010#010#010#010#010#010#010#010#010#010#010#010#010#010#010#010#010#010#010#010#015141123584/170498071 [=======================>......] - ETA: 0s#010#010#010#010#010#010#010#010#010#010#010#010#010#010#010#010#010#010#010#010#010#010#010#010#010#010#010#010#010#010#010#010#010#010#010#010#010#010#010#010#010#010#010#010#010#010#010#010#010#010#010#010#010#010#010#010#010#010#010#010#010#010#015142630912/170498071 [========================>.....] - ETA: 0s#010#010#010#010#010#010#010#010#010#010#010#010#010#010#010#010#010#010#010#010#010#010#010#010#010#010#010#010#010#010#010#010#010#010#010#010#010#010#010#010#010#010#010#010#010#010#010#010#010#010#010#010#010#010#010#010#010#010#010#010#010#010#015144146432/170498071 [========================>.....] - ETA: 0s#010#010#010#010#010#010#010#010#010#010#010#010#010#010#010#010#010#010#010#010#010#010#010#010#010#010#010#010#010#010#010#010#010#010#010#010#010#010#010#010#010#010#010#010#010#010#010#010#010#010#010#010#010#010#010#010#010#010#010#010#010#010#015145694720/170498071 [========================>.....] - ETA: 0s#010#010#010#010#010#010#010#010#010#010#010#010#010#010#010#010#010#010#010#010#010#010#010#010#010#010#010#010#010#010#010#010#010#010#010#010#010#010#010#010#010#010#010#010#010#010#010#010#010#010#010#010#010#010#010#010#010#010#010#010#010#010#015147243008/170498071 [========================>.....] - ETA: 0s#010#010#010#010#010#010#010#010#010#010#010#010#010#010#010#010#010#010#010#010#010#010#010#010#010#010#010#010#010#010#010#010#010#010#010#010#010#010#010#010#010#010#010#010#010#010#010#010#010#010#010#010#010#010#010#010#010#010#010#010#010#010#015148791296/170498071 [=========================>....] - ETA: 0s#010#010#010#010#010#010#010#010#010#010#010#010#010#010#010#010#010#010#010#010#010#010#010#010#010#010#010#010#010#010#010#010#010#010#010#010#010#010#010#010#010#010#010#010#010#010#010#010#010#010#010#010#010#010#010#010#010#010#010#010#010#010#015150347776/170498071 [=========================>....] - ETA: 0s#010#010#010#010#010#010#010#010#010#010#010#010#010#010#010#010#010#010#010#010#010#010#010#010#010#010#010#010#010#010#010#010#010#010#010#010#010#010#010#010#010#010#010#010#010#010#010#010#010#010#010#010#010#010#010#010#010#010#010#010#010#010#015151896064/170498071 [=========================>....] - ETA: 0s#010#010#010#010#010#010#010#010#010#010#010#010#010#010#010#010#010#010#010#010#010#010#010#010#010#010#010#010#010#010#010#010#010#010#010#010#010#010#010#010#010#010#010#010#010#010#010#010#010#010#010#010#010#010#010#010#010#010#010#010#010#010#015153427968/170498071 [=========================>....] - ETA: 0s#010#010#010#010#010#010#010#010#010#010#010#010#010#010#010#010#010#010#010#010#010#010#010#010#010#010#010#010#010#010#010#010#010#010#010#010#010#010#010#010#010#010#010#010#010#010#010#010#010#010#010#010#010#010#010#010#010#010#010#010#010#010#015154976256/170498071 [==========================>...] - ETA: 0s#010#010#010#010#010#010#010#010#010#010#010#010#010#010#010#010#010#010#010#010#010#010#010#010#010#010#010#010#010#010#010#010#010#010#010#010#010#010#010#010#010#010#010#010#010#010#010#010#010#010#010#010#010#010#010#010#010#010#010#010#010#010#015156508160/170498071 [==========================>...] - ETA: 0s#010#010#010#010#010#010#010#010#010#010#010#010#010#010#010#010#010#010#010#010#010#010#010#010#010#010#010#010#010#010#010#010#010#010#010#010#010#010#010#010#010#010#010#010#010#010#010#010#010#010#010#010#010#010#010#010#010#010#010#010#010#010#015158056448/170498071 [==========================>...] - ETA: 0s#010#010#010#010#010#010#010#010#010#010#010#010#010#010#010#010#010#010#010#010#010#010#010#010#010#010#010#010#010#010#010#010#010#010#010#010#010#010#010#010#010#010#010#010#010#010#010#010#010#010#010#010#010#010#010#010#010#010#010#010#010#010#015159596544/170498071 [===========================>..] - ETA: 0s#010#010#010#010#010#010#010#010#010#010#010#010#010#010#010#010#010#010#010#010#010#010#010#010#010#010#010#010#010#010#010#010#010#010#010#010#010#010#010#010#010#010#010#010#010#010#010#010#010#010#010#010#010#010#010#010#010#010#010#010#010#010#015161144832/170498071 [===========================>..] - ETA: 0s#010#010#010#010#010#010#010#010#010#010#010#010#010#010#010#010#010#010#010#010#010#010#010#010#010#010#010#010#010#010#010#010#010#010#010#010#010#010#010#010#010#010#010#010#010#010#010#010#010#010#010#010#010#010#010#010#010#010#010#010#010#010#015162693120/170498071 [===========================>..] - ETA: 0s#010#010#010#010#010#010#010#010#010#010#010#010#010#010#010#010#010#010#010#010#010#010#010#010#010#010#010#010#010#010#010#010#010#010#010#010#010#010#010#010#010#010#010#010#010#010#010#010#010#010#010#010#010#010#010#010#010#010#010#010#010#010#015164249600/170498071 [===========================>..] - ETA: 0s#010#010#010#010#010#010#010#010#010#010#010#010#010#010#010#010#010#010#010#010#010#010#010#010#010#010#010#010#010#010#010#010#010#010#010#010#010#010#010#010#010#010#010#010#010#010#010#010#010#010#010#010#010#010#010#010#010#010#010#010#010#010#015165797888/170498071 [============================>.] - ETA: 0s#010#010#010#010#010#010#010#010#010#010#010#010#010#010#010#010#010#010#010#010#010#010#010#010#010#010#010#010#010#010#010#010#010#010#010#010#010#010#010#010#010#010#010#010#010#010#010#010#010#010#010#010#010#010#010#010#010#010#010#010#010#010#015167346176/170498071 [============================>.] - ETA: 0s#010#010#010#010#010#010#010#010#010#010#010#010#010#010#010#010#010#010#010#010#010#010#010#010#010#010#010#010#010#010#010#010#010#010#010#010#010#010#010#010#010#010#010#010#010#010#010#010#010#010#010#010#010#010#010#010#010#010#010#010#010#010#015168894464/170498071 [============================>.] - ETA: 0s#010#010#010#010#010#010#010#010#010#010#010#010#010#010#010#010#010#010#010#010#010#010#010#010#010#010#010#010#010#010#010#010#010#010#010#010#010#010#010#010#010#010#010#010#010#010#010#010#010#010#010#010#010#010#010#010#010#010#010#010#010#010#015170377216/170498071 [============================>.] - ETA: 0s#010#010#010#010#010#010#010#010#010#010#010#010#010#010#010#010#010#010#010#010#010#010#010#010#010#010#010#010#010#010#010#010#010#010#010#010#010#010#010#010#010#010#010#010#010#010#010#010#010#010#010#010#010#010#010#010#010#010#010#010#010#010#015170500096/170498071 [==============================] - 6s 0us/step\u001b[0m\n",
      "\u001b[34m[2022-01-25 06:24:31.882 ip-10-0-209-80.ec2.internal:82 INFO json_config.py:91] Creating hook from json_config at /opt/ml/input/config/debughookconfig.json.\u001b[0m\n",
      "\u001b[34m[2022-01-25 06:24:31.888 ip-10-0-209-80.ec2.internal:82 INFO hook.py:199] tensorboard_dir has not been set for the hook. SMDebug will not be exporting tensorboard summaries.\u001b[0m\n",
      "\u001b[34m[2022-01-25 06:24:31.892 ip-10-0-209-80.ec2.internal:82 INFO hook.py:253] Saving to /opt/ml/output/tensors\u001b[0m\n",
      "\u001b[34m[2022-01-25 06:24:31.893 ip-10-0-209-80.ec2.internal:82 INFO state_store.py:75] The checkpoint config file /opt/ml/input/config/checkpointconfig.json does not exist.\u001b[0m\n",
      "\u001b[34m[2022-01-25 06:24:32.648 ip-10-0-209-80.ec2.internal:82 INFO hook.py:413] Monitoring the collections: sm_metrics, metrics, losses\u001b[0m\n",
      "\u001b[34m[2022-01-25 06:24:33.819 ip-10-0-209-80.ec2.internal:82 INFO python_profiler.py:182] Dumping cProfile stats to /opt/ml/output/profiler/framework/tensorflow/cprofile/82-algo-1/prestepzero-*-start-1643091793938206.8_train-0-stepstart-1643091873818890.8/python_stats.\u001b[0m\n",
      "\u001b[34mip-10-0-209-80:82:245 [2] NCCL INFO Bootstrap : Using [0]ecs-eth0:169.254.172.3<0> [1]eth0:10.0.209.80<0>\u001b[0m\n",
      "\u001b[34mip-10-0-209-80:82:245 [2] NCCL INFO NET/Plugin : No plugin found (libnccl-net.so), using internal implementation\u001b[0m\n",
      "\u001b[34mip-10-0-209-80:82:245 [2] external/nccl_archive/src/misc/ibvwrap.cc:63 NCCL WARN Failed to open libibverbs.so[.1]\u001b[0m\n",
      "\u001b[34mip-10-0-209-80:82:245 [2] NCCL INFO NET/Socket : Using [0]ecs-eth0:169.254.172.3<0> [1]eth0:10.0.209.80<0>\u001b[0m\n",
      "\u001b[34mip-10-0-209-80:82:245 [2] NCCL INFO Using network Socket\u001b[0m\n",
      "\u001b[34mNCCL version 2.7.8+cudaCUDA_MAJOR.CUDA_MINOR\u001b[0m\n",
      "\u001b[34mip-10-0-209-80:82:319 [1] NCCL INFO threadThresholds 8/8/64 | 32/8/64 | 8/8/64\u001b[0m\n",
      "\u001b[34mip-10-0-209-80:82:320 [2] NCCL INFO threadThresholds 8/8/64 | 32/8/64 | 8/8/64\u001b[0m\n",
      "\u001b[34mip-10-0-209-80:82:321 [3] NCCL INFO threadThresholds 8/8/64 | 32/8/64 | 8/8/64\u001b[0m\n",
      "\u001b[34mip-10-0-209-80:82:320 [2] NCCL INFO Trees [0] 1/-1/-1->2->3|3->2->1/-1/-1 [1] 3/-1/-1->2->1|1->2->3/-1/-1 [2] 1/-1/-1->2->3|3->2->1/-1/-1 [3] 3/-1/-1->2->1|1->2->3/-1/-1 [4] 1/-1/-1->2->3|3->2->1/-1/-1 [5] 3/-1/-1->2->1|1->2->3/-1/-1 [6] 1/-1/-1->2->3|3->2->1/-1/-1 [7] 3/-1/-1->2->1|1->2->3/-1/-1\u001b[0m\n",
      "\u001b[34mip-10-0-209-80:82:318 [0] NCCL INFO Channel 00/08 :    0   1   2   3\u001b[0m\n",
      "\u001b[34mip-10-0-209-80:82:318 [0] NCCL INFO Channel 01/08 :    0   3   2   1\u001b[0m\n",
      "\u001b[34mip-10-0-209-80:82:318 [0] NCCL INFO Channel 02/08 :    0   3   1   2\u001b[0m\n",
      "\u001b[34mip-10-0-209-80:82:319 [1] NCCL INFO Trees [0] -1/-1/-1->1->2|2->1->-1/-1/-1 [1] 2/-1/-1->1->-1|-1->1->2/-1/-1 [2] -1/-1/-1->1->2|2->1->-1/-1/-1 [3] 2/-1/-1->1->-1|-1->1->2/-1/-1 [4] -1/-1/-1->1->2|2->1->-1/-1/-1 [5] 2/-1/-1->1->-1|-1->1->2/-1/-1 [6] -1/-1/-1->1->2|2->1->-1/-1/-1 [7] 2/-1/-1->1->-1|-1->1->2/-1/-1\u001b[0m\n",
      "\u001b[34mip-10-0-209-80:82:321 [3] NCCL INFO Trees [0] 2/-1/-1->3->0|0->3->2/-1/-1 [1] 0/-1/-1->3->2|2->3->0/-1/-1 [2] 2/-1/-1->3->0|0->3->2/-1/-1 [3] 0/-1/-1->3->2|2->3->0/-1/-1 [4] 2/-1/-1->3->0|0->3->2/-1/-1 [5] 0/-1/-1->3->2|2->3->0/-1/-1 [6] 2/-1/-1->3->0|0->3->2/-1/-1 [7] 0/-1/-1->3->2|2->3->0/-1/-1\u001b[0m\n",
      "\u001b[34mip-10-0-209-80:82:318 [0] NCCL INFO Channel 03/08 :    0   2   1   3\u001b[0m\n",
      "\u001b[34mip-10-0-209-80:82:318 [0] NCCL INFO Channel 04/08 :    0   1   2   3\u001b[0m\n",
      "\u001b[34mip-10-0-209-80:82:318 [0] NCCL INFO Channel 05/08 :    0   3   2   1\u001b[0m\n",
      "\u001b[34mip-10-0-209-80:82:318 [0] NCCL INFO Channel 06/08 :    0   3   1   2\u001b[0m\n",
      "\u001b[34mip-10-0-209-80:82:318 [0] NCCL INFO Channel 07/08 :    0   2   1   3\u001b[0m\n",
      "\u001b[34mip-10-0-209-80:82:318 [0] NCCL INFO threadThresholds 8/8/64 | 32/8/64 | 8/8/64\u001b[0m\n",
      "\u001b[34mip-10-0-209-80:82:318 [0] NCCL INFO Trees [0] 3/-1/-1->0->-1|-1->0->3/-1/-1 [1] -1/-1/-1->0->3|3->0->-1/-1/-1 [2] 3/-1/-1->0->-1|-1->0->3/-1/-1 [3] -1/-1/-1->0->3|3->0->-1/-1/-1 [4] 3/-1/-1->0->-1|-1->0->3/-1/-1 [5] -1/-1/-1->0->3|3->0->-1/-1/-1 [6] 3/-1/-1->0->-1|-1->0->3/-1/-1 [7] -1/-1/-1->0->3|3->0->-1/-1/-1\u001b[0m\n",
      "\u001b[34mip-10-0-209-80:82:319 [1] NCCL INFO Channel 00 : 1[1c0] -> 2[1d0] via P2P/direct pointer\u001b[0m\n",
      "\u001b[34mip-10-0-209-80:82:320 [2] NCCL INFO Channel 00 : 2[1d0] -> 3[1e0] via P2P/direct pointer\u001b[0m\n",
      "\u001b[34mip-10-0-209-80:82:318 [0] NCCL INFO Channel 00 : 0[1b0] -> 1[1c0] via P2P/direct pointer\u001b[0m\n",
      "\u001b[34mip-10-0-209-80:82:321 [3] NCCL INFO Channel 00 : 3[1e0] -> 0[1b0] via P2P/direct pointer\u001b[0m\n",
      "\u001b[34mip-10-0-209-80:82:318 [0] NCCL INFO Channel 00 : 0[1b0] -> 3[1e0] via P2P/direct pointer\u001b[0m\n",
      "\u001b[34mip-10-0-209-80:82:320 [2] NCCL INFO Channel 00 : 2[1d0] -> 1[1c0] via P2P/direct pointer\u001b[0m\n",
      "\u001b[34mip-10-0-209-80:82:321 [3] NCCL INFO Channel 00 : 3[1e0] -> 2[1d0] via P2P/direct pointer\u001b[0m\n",
      "\u001b[34mip-10-0-209-80:82:318 [0] NCCL INFO Channel 01 : 0[1b0] -> 3[1e0] via P2P/direct pointer\u001b[0m\n",
      "\u001b[34mip-10-0-209-80:82:320 [2] NCCL INFO Channel 01 : 2[1d0] -> 1[1c0] via P2P/direct pointer\u001b[0m\n",
      "\u001b[34mip-10-0-209-80:82:321 [3] NCCL INFO Channel 01 : 3[1e0] -> 2[1d0] via P2P/direct pointer\u001b[0m\n",
      "\u001b[34mip-10-0-209-80:82:319 [1] NCCL INFO Channel 01 : 1[1c0] -> 0[1b0] via P2P/direct pointer\u001b[0m\n",
      "\u001b[34mip-10-0-209-80:82:319 [1] NCCL INFO Channel 01 : 1[1c0] -> 2[1d0] via P2P/direct pointer\u001b[0m\n",
      "\u001b[34mip-10-0-209-80:82:320 [2] NCCL INFO Channel 01 : 2[1d0] -> 3[1e0] via P2P/direct pointer\u001b[0m\n",
      "\u001b[34mip-10-0-209-80:82:321 [3] NCCL INFO Channel 01 : 3[1e0] -> 0[1b0] via P2P/direct pointer\u001b[0m\n",
      "\u001b[34mip-10-0-209-80:82:318 [0] NCCL INFO Channel 02 : 0[1b0] -> 3[1e0] via P2P/direct pointer\u001b[0m\n",
      "\u001b[34mip-10-0-209-80:82:319 [1] NCCL INFO Channel 02 : 1[1c0] -> 2[1d0] via P2P/direct pointer\u001b[0m\n",
      "\u001b[34mip-10-0-209-80:82:320 [2] NCCL INFO Channel 02 : 2[1d0] -> 0[1b0] via P2P/direct pointer\u001b[0m\n",
      "\u001b[34mip-10-0-209-80:82:321 [3] NCCL INFO Channel 02 : 3[1e0] -> 1[1c0] via P2P/direct pointer\u001b[0m\n",
      "\u001b[34mip-10-0-209-80:82:320 [2] NCCL INFO Channel 02 : 2[1d0] -> 3[1e0] via P2P/direct pointer\u001b[0m\n",
      "\u001b[34mip-10-0-209-80:82:321 [3] NCCL INFO Channel 02 : 3[1e0] -> 0[1b0] via P2P/direct pointer\u001b[0m\n",
      "\u001b[34mip-10-0-209-80:82:321 [3] NCCL INFO Channel 02 : 3[1e0] -> 2[1d0] via P2P/direct pointer\u001b[0m\n",
      "\u001b[34mip-10-0-209-80:82:320 [2] NCCL INFO Channel 02 : 2[1d0] -> 1[1c0] via P2P/direct pointer\u001b[0m\n",
      "\u001b[34mip-10-0-209-80:82:318 [0] NCCL INFO Channel 03 : 0[1b0] -> 2[1d0] via P2P/direct pointer\u001b[0m\n",
      "\u001b[34mip-10-0-209-80:82:319 [1] NCCL INFO Channel 03 : 1[1c0] -> 3[1e0] via P2P/direct pointer\u001b[0m\n",
      "\u001b[34mip-10-0-209-80:82:321 [3] NCCL INFO Channel 03 : 3[1e0] -> 0[1b0] via P2P/direct pointer\u001b[0m\n",
      "\u001b[34mip-10-0-209-80:82:320 [2] NCCL INFO Channel 03 : 2[1d0] -> 1[1c0] via P2P/direct pointer\u001b[0m\n",
      "\u001b[34mip-10-0-209-80:82:319 [1] NCCL INFO Channel 03 : 1[1c0] -> 2[1d0] via P2P/direct pointer\u001b[0m\n",
      "\u001b[34mip-10-0-209-80:82:318 [0] NCCL INFO Channel 03 : 0[1b0] -> 3[1e0] via P2P/direct pointer\u001b[0m\n",
      "\u001b[34mip-10-0-209-80:82:321 [3] NCCL INFO Channel 03 : 3[1e0] -> 2[1d0] via P2P/direct pointer\u001b[0m\n",
      "\u001b[34mip-10-0-209-80:82:318 [0] NCCL INFO Channel 04 : 0[1b0] -> 1[1c0] via P2P/direct pointer\u001b[0m\n",
      "\u001b[34mip-10-0-209-80:82:320 [2] NCCL INFO Channel 03 : 2[1d0] -> 3[1e0] via P2P/direct pointer\u001b[0m\n",
      "\u001b[34mip-10-0-209-80:82:319 [1] NCCL INFO Channel 04 : 1[1c0] -> 2[1d0] via P2P/direct pointer\u001b[0m\n",
      "\u001b[34mip-10-0-209-80:82:321 [3] NCCL INFO Channel 04 : 3[1e0] -> 0[1b0] via P2P/direct pointer\u001b[0m\n",
      "\u001b[34mip-10-0-209-80:82:320 [2] NCCL INFO Channel 04 : 2[1d0] -> 3[1e0] via P2P/direct pointer\u001b[0m\n",
      "\u001b[34mip-10-0-209-80:82:318 [0] NCCL INFO Channel 04 : 0[1b0] -> 3[1e0] via P2P/direct pointer\u001b[0m\n",
      "\u001b[34mip-10-0-209-80:82:320 [2] NCCL INFO Channel 04 : 2[1d0] -> 1[1c0] via P2P/direct pointer\u001b[0m\n",
      "\u001b[34mip-10-0-209-80:82:321 [3] NCCL INFO Channel 04 : 3[1e0] -> 2[1d0] via P2P/direct pointer\u001b[0m\n",
      "\u001b[34mip-10-0-209-80:82:318 [0] NCCL INFO Channel 05 : 0[1b0] -> 3[1e0] via P2P/direct pointer\u001b[0m\n",
      "\u001b[34mip-10-0-209-80:82:320 [2] NCCL INFO Channel 05 : 2[1d0] -> 1[1c0] via P2P/direct pointer\u001b[0m\n",
      "\u001b[34mip-10-0-209-80:82:321 [3] NCCL INFO Channel 05 : 3[1e0] -> 2[1d0] via P2P/direct pointer\u001b[0m\n",
      "\u001b[34mip-10-0-209-80:82:319 [1] NCCL INFO Channel 05 : 1[1c0] -> 0[1b0] via P2P/direct pointer\u001b[0m\n",
      "\u001b[34mip-10-0-209-80:82:319 [1] NCCL INFO Channel 05 : 1[1c0] -> 2[1d0] via P2P/direct pointer\u001b[0m\n",
      "\u001b[34mip-10-0-209-80:82:320 [2] NCCL INFO Channel 05 : 2[1d0] -> 3[1e0] via P2P/direct pointer\u001b[0m\n",
      "\u001b[34mip-10-0-209-80:82:321 [3] NCCL INFO Channel 05 : 3[1e0] -> 0[1b0] via P2P/direct pointer\u001b[0m\n",
      "\u001b[34mip-10-0-209-80:82:319 [1] NCCL INFO Channel 06 : 1[1c0] -> 2[1d0] via P2P/direct pointer\u001b[0m\n",
      "\u001b[34mip-10-0-209-80:82:318 [0] NCCL INFO Channel 06 : 0[1b0] -> 3[1e0] via P2P/direct pointer\u001b[0m\n",
      "\u001b[34mip-10-0-209-80:82:320 [2] NCCL INFO Channel 06 : 2[1d0] -> 0[1b0] via P2P/direct pointer\u001b[0m\n",
      "\u001b[34mip-10-0-209-80:82:321 [3] NCCL INFO Channel 06 : 3[1e0] -> 1[1c0] via P2P/direct pointer\u001b[0m\n",
      "\u001b[34mip-10-0-209-80:82:320 [2] NCCL INFO Channel 06 : 2[1d0] -> 3[1e0] via P2P/direct pointer\u001b[0m\n",
      "\u001b[34mip-10-0-209-80:82:321 [3] NCCL INFO Channel 06 : 3[1e0] -> 0[1b0] via P2P/direct pointer\u001b[0m\n",
      "\u001b[34mip-10-0-209-80:82:321 [3] NCCL INFO Channel 06 : 3[1e0] -> 2[1d0] via P2P/direct pointer\u001b[0m\n",
      "\u001b[34mip-10-0-209-80:82:320 [2] NCCL INFO Channel 06 : 2[1d0] -> 1[1c0] via P2P/direct pointer\u001b[0m\n",
      "\u001b[34mip-10-0-209-80:82:318 [0] NCCL INFO Channel 07 : 0[1b0] -> 2[1d0] via P2P/direct pointer\u001b[0m\n",
      "\u001b[34mip-10-0-209-80:82:321 [3] NCCL INFO Channel 07 : 3[1e0] -> 0[1b0] via P2P/direct pointer\u001b[0m\n",
      "\u001b[34mip-10-0-209-80:82:320 [2] NCCL INFO Channel 07 : 2[1d0] -> 1[1c0] via P2P/direct pointer\u001b[0m\n",
      "\u001b[34mip-10-0-209-80:82:319 [1] NCCL INFO Channel 07 : 1[1c0] -> 3[1e0] via P2P/direct pointer\u001b[0m\n",
      "\u001b[34mip-10-0-209-80:82:318 [0] NCCL INFO Channel 07 : 0[1b0] -> 3[1e0] via P2P/direct pointer\u001b[0m\n",
      "\u001b[34mip-10-0-209-80:82:319 [1] NCCL INFO Channel 07 : 1[1c0] -> 2[1d0] via P2P/direct pointer\u001b[0m\n",
      "\u001b[34mip-10-0-209-80:82:318 [0] NCCL INFO 8 coll channels, 8 p2p channels, 2 p2p channels per peer\u001b[0m\n",
      "\u001b[34mip-10-0-209-80:82:321 [3] NCCL INFO Channel 07 : 3[1e0] -> 2[1d0] via P2P/direct pointer\u001b[0m\n",
      "\u001b[34mip-10-0-209-80:82:318 [0] NCCL INFO comm 0x7fd124001090 rank 0 nranks 4 cudaDev 0 busId 1b0 - Init COMPLETE\u001b[0m\n",
      "\u001b[34mip-10-0-209-80:82:319 [1] NCCL INFO 8 coll channels, 8 p2p channels, 2 p2p channels per peer\u001b[0m\n",
      "\u001b[34mip-10-0-209-80:82:320 [2] NCCL INFO Channel 07 : 2[1d0] -> 3[1e0] via P2P/direct pointer\u001b[0m\n",
      "\u001b[34mip-10-0-209-80:82:319 [1] NCCL INFO comm 0x7fd118001060 rank 1 nranks 4 cudaDev 1 busId 1c0 - Init COMPLETE\u001b[0m\n",
      "\u001b[34mip-10-0-209-80:82:321 [3] NCCL INFO 8 coll channels, 8 p2p channels, 2 p2p channels per peer\u001b[0m\n",
      "\u001b[34mip-10-0-209-80:82:320 [2] NCCL INFO 8 coll channels, 8 p2p channels, 2 p2p channels per peer\u001b[0m\n",
      "\u001b[34mip-10-0-209-80:82:321 [3] NCCL INFO comm 0x7fd110001060 rank 3 nranks 4 cudaDev 3 busId 1e0 - Init COMPLETE\u001b[0m\n",
      "\u001b[34mip-10-0-209-80:82:320 [2] NCCL INFO comm 0x7fd11c001060 rank 2 nranks 4 cudaDev 2 busId 1d0 - Init COMPLETE\u001b[0m\n",
      "\u001b[34mip-10-0-209-80:82:313 [0] NCCL INFO Launch mode Group/CGMD\u001b[0m\n",
      "\u001b[34m[2022-01-25 06:26:01.865 ip-10-0-209-80.ec2.internal:82 INFO keras.py:911] Enabling TF profiler on step: = 5\u001b[0m\n",
      "\u001b[34m[2022-01-25 06:26:04.176 ip-10-0-209-80.ec2.internal:82 INFO keras.py:922] Disabling TF profiler on step: =8\u001b[0m\n",
      "\u001b[34m[2022-01-25 06:26:06.186 ip-10-0-209-80.ec2.internal:82 INFO python_profiler.py:182] Dumping cProfile stats to /opt/ml/output/profiler/framework/tensorflow/cprofile/82-algo-1/train-9-stepstart-1643091966077458.0_train-9-stepend-1643091966185713.2/python_stats.\u001b[0m\n",
      "\u001b[34m[2022-01-25 06:26:06.192 ip-10-0-209-80.ec2.internal:82 INFO python_profiler.py:182] Dumping cProfile stats to /opt/ml/output/profiler/framework/tensorflow/cprofile/82-algo-1/train-9-stepend-1643091966189760.0_train-10-stepstart-1643091966192604.8/python_stats.\u001b[0m\n",
      "\u001b[34m[2022-01-25 06:27:32.505 ip-10-0-209-80.ec2.internal:82 INFO python_profiler.py:182] Dumping cProfile stats to /opt/ml/output/profiler/framework/tensorflow/cprofile/82-algo-1/eval-9-stepstart-1643092052450444.8_eval-9-stepend-1643092052505171.0/python_stats.\u001b[0m\n",
      "\u001b[34m[2022-01-25 06:27:32.511 ip-10-0-209-80.ec2.internal:82 INFO python_profiler.py:182] Dumping cProfile stats to /opt/ml/output/profiler/framework/tensorflow/cprofile/82-algo-1/eval-9-stepend-1643092052507779.8_eval-10-stepstart-1643092052510736.8/python_stats.\u001b[0m\n",
      "\u001b[34m[2022-01-25 06:27:36.943 ip-10-0-209-80.ec2.internal:82 INFO python_profiler.py:182] Dumping cProfile stats to /opt/ml/output/profiler/framework/tensorflow/cprofile/82-algo-1/eval-312-stepend-1643092056740018.0_train-1563-stepstart-1643092056943555.5/python_stats.\u001b[0m\n",
      "\u001b[34m[2022-01-25 06:29:00.765 ip-10-0-209-80.ec2.internal:82 INFO python_profiler.py:182] Dumping cProfile stats to /opt/ml/output/profiler/framework/tensorflow/cprofile/82-algo-1/eval-625-stepend-1643092140541579.8_train-3126-stepstart-1643092140765198.2/python_stats.\u001b[0m\n",
      "Overfit: IssuesFound\n",
      "\u001b[34m[2022-01-25 06:30:25.359 ip-10-0-209-80.ec2.internal:82 INFO python_profiler.py:182] Dumping cProfile stats to /opt/ml/output/profiler/framework/tensorflow/cprofile/82-algo-1/eval-938-stepend-1643092225166553.0_train-4689-stepstart-1643092225359103.8/python_stats.\u001b[0m\n",
      "\u001b[34m[2022-01-25 06:31:49.706 ip-10-0-209-80.ec2.internal:82 INFO python_profiler.py:182] Dumping cProfile stats to /opt/ml/output/profiler/framework/tensorflow/cprofile/82-algo-1/eval-1251-stepend-1643092309515886.8_train-6252-stepstart-1643092309706585.5/python_stats.\u001b[0m\n",
      "\u001b[34m[2022-01-25 06:33:13.738 ip-10-0-209-80.ec2.internal:82 INFO python_profiler.py:182] Dumping cProfile stats to /opt/ml/output/profiler/framework/tensorflow/cprofile/82-algo-1/eval-1564-stepend-1643092393687422.2_train-7814-stepend-1643092393738108.8/python_stats.\u001b[0m\n",
      "\u001b[34m[2022-01-25 06:33:13.756 ip-10-0-209-80.ec2.internal:82 INFO python_profiler.py:182] Dumping cProfile stats to /opt/ml/output/profiler/framework/tensorflow/cprofile/82-algo-1/train-7814-stepend-1643092393741860.8_posthookclose-*-end-1643092393756206.2/python_stats.\u001b[0m\n",
      "\u001b[34m2022-01-25 06:23:07.986844: W tensorflow/core/profiler/internal/smprofiler_timeline.cc:460] Initializing the SageMaker Profiler.\u001b[0m\n",
      "\u001b[34m2022-01-25 06:23:08.031270: W tensorflow/core/profiler/internal/smprofiler_timeline.cc:460] Initializing the SageMaker Profiler.\u001b[0m\n",
      "\u001b[34mINFO:tensorflow:Reduce to /job:localhost/replica:0/task:0/device:CPU:0 then broadcast to ('/job:localhost/replica:0/task:0/device:CPU:0',).\u001b[0m\n",
      "\u001b[34mINFO:tensorflow:Reduce to /job:localhost/replica:0/task:0/device:CPU:0 then broadcast to ('/job:localhost/replica:0/task:0/device:CPU:0',).\u001b[0m\n",
      "\u001b[34mINFO:tensorflow:Reduce to /job:localhost/replica:0/task:0/device:CPU:0 then broadcast to ('/job:localhost/replica:0/task:0/device:CPU:0',).\u001b[0m\n",
      "\u001b[34mINFO:tensorflow:Reduce to /job:localhost/replica:0/task:0/device:CPU:0 then broadcast to ('/job:localhost/replica:0/task:0/device:CPU:0',).\u001b[0m\n",
      "\u001b[34mINFO:tensorflow:Reduce to /job:localhost/replica:0/task:0/device:CPU:0 then broadcast to ('/job:localhost/replica:0/task:0/device:CPU:0',).\u001b[0m\n",
      "\u001b[34mINFO:tensorflow:Reduce to /job:localhost/replica:0/task:0/device:CPU:0 then broadcast to ('/job:localhost/replica:0/task:0/device:CPU:0',).\u001b[0m\n",
      "\u001b[34mINFO:tensorflow:Reduce to /job:localhost/replica:0/task:0/device:CPU:0 then broadcast to ('/job:localhost/replica:0/task:0/device:CPU:0',).\u001b[0m\n",
      "\u001b[34mINFO:tensorflow:Reduce to /job:localhost/replica:0/task:0/device:CPU:0 then broadcast to ('/job:localhost/replica:0/task:0/device:CPU:0',).\u001b[0m\n",
      "\u001b[34mINFO:tensorflow:Reduce to /job:localhost/replica:0/task:0/device:CPU:0 then broadcast to ('/job:localhost/replica:0/task:0/device:CPU:0',).\u001b[0m\n",
      "\u001b[34mINFO:tensorflow:Reduce to /job:localhost/replica:0/task:0/device:CPU:0 then broadcast to ('/job:localhost/replica:0/task:0/device:CPU:0',).\u001b[0m\n",
      "\u001b[34mINFO:tensorflow:Reduce to /job:localhost/replica:0/task:0/device:CPU:0 then broadcast to ('/job:localhost/replica:0/task:0/device:CPU:0',).\u001b[0m\n",
      "\u001b[34mINFO:tensorflow:Reduce to /job:localhost/replica:0/task:0/device:CPU:0 then broadcast to ('/job:localhost/replica:0/task:0/device:CPU:0',).\u001b[0m\n",
      "\u001b[34mINFO:tensorflow:Reduce to /job:localhost/replica:0/task:0/device:CPU:0 then broadcast to ('/job:localhost/replica:0/task:0/device:CPU:0',).\u001b[0m\n",
      "\u001b[34mINFO:tensorflow:Reduce to /job:localhost/replica:0/task:0/device:CPU:0 then broadcast to ('/job:localhost/replica:0/task:0/device:CPU:0',).\u001b[0m\n",
      "\u001b[34mINFO:tensorflow:Reduce to /job:localhost/replica:0/task:0/device:CPU:0 then broadcast to ('/job:localhost/replica:0/task:0/device:CPU:0',).\u001b[0m\n",
      "\u001b[34mINFO:tensorflow:Reduce to /job:localhost/replica:0/task:0/device:CPU:0 then broadcast to ('/job:localhost/replica:0/task:0/device:CPU:0',).\u001b[0m\n",
      "\u001b[34mINFO:tensorflow:Reduce to /job:localhost/replica:0/task:0/device:CPU:0 then broadcast to ('/job:localhost/replica:0/task:0/device:CPU:0',).\u001b[0m\n",
      "\u001b[34mINFO:tensorflow:Reduce to /job:localhost/replica:0/task:0/device:CPU:0 then broadcast to ('/job:localhost/replica:0/task:0/device:CPU:0',).\u001b[0m\n",
      "\u001b[34mINFO:tensorflow:Reduce to /job:localhost/replica:0/task:0/device:CPU:0 then broadcast to ('/job:localhost/replica:0/task:0/device:CPU:0',).\u001b[0m\n",
      "\u001b[34mINFO:tensorflow:Reduce to /job:localhost/replica:0/task:0/device:CPU:0 then broadcast to ('/job:localhost/replica:0/task:0/device:CPU:0',).\u001b[0m\n",
      "\u001b[34mWARNING:tensorflow:From /usr/local/lib/python3.7/site-packages/tensorflow/python/data/ops/multi_device_iterator_ops.py:601: get_next_as_optional (from tensorflow.python.data.ops.iterator_ops) is deprecated and will be removed in a future version.\u001b[0m\n",
      "\u001b[34mInstructions for updating:\u001b[0m\n",
      "\u001b[34mUse `tf.data.Iterator.get_next_as_optional()` instead.\u001b[0m\n",
      "\u001b[34mWARNING:tensorflow:From /usr/local/lib/python3.7/site-packages/tensorflow/python/data/ops/multi_device_iterator_ops.py:601: get_next_as_optional (from tensorflow.python.data.ops.iterator_ops) is deprecated and will be removed in a future version.\u001b[0m\n",
      "\u001b[34mInstructions for updating:\u001b[0m\n",
      "\u001b[34mUse `tf.data.Iterator.get_next_as_optional()` instead.\u001b[0m\n",
      "\u001b[34mINFO:tensorflow:batch_all_reduce: 214 all-reduces with algorithm = nccl, num_packs = 1\u001b[0m\n",
      "\u001b[34m2022-01-25 06:33:18,975 sagemaker_tensorflow_container.training WARNING  No model artifact is saved under path /opt/ml/model. Your training job will not save any model files to S3.\u001b[0m\n",
      "\u001b[34mINFO:tensorflow:batch_all_reduce: 214 all-reduces with algorithm = nccl, num_packs = 1\u001b[0m\n",
      "\u001b[34mINFO:tensorflow:batch_all_reduce: 214 all-reduces with algorithm = nccl, num_packs = 1\u001b[0m\n",
      "\u001b[34mINFO:tensorflow:batch_all_reduce: 214 all-reduces with algorithm = nccl, num_packs = 1\u001b[0m\n",
      "\u001b[34mFor details of how to construct your training script see:\u001b[0m\n",
      "\u001b[34mhttps://sagemaker.readthedocs.io/en/stable/using_tf.html#adapting-your-local-tensorflow-script\u001b[0m\n",
      "\u001b[34m2022-01-25 06:33:18,975 sagemaker-training-toolkit INFO     Reporting training SUCCESS\u001b[0m\n",
      "\n",
      "2022-01-25 06:33:26 Uploading - Uploading generated training model\n",
      "2022-01-25 06:33:26 Completed - Training job completed\n",
      "Training seconds: 838\n",
      "Billable seconds: 838\n"
     ]
    }
   ],
   "source": [
    "estimator.fit(wait=True)"
   ]
  },
  {
   "cell_type": "markdown",
   "metadata": {
    "papermill": {
     "duration": null,
     "end_time": null,
     "exception": null,
     "start_time": null,
     "status": "pending"
    },
    "tags": []
   },
   "source": [
    "<a class=\"anchor\" id=\"step5\"></a>\n",
    "## Step 5: Check training progress on Studio Debugger insights dashboard and the built-in rules evaluation status\n",
    "\n",
    "- **Option 1** - Use SageMaker Studio Debugger insights and Experiments. This is a non-coding approach.\n",
    "- **Option 2** - Use the following code cells. This is a code-based approach. "
   ]
  },
  {
   "cell_type": "markdown",
   "metadata": {
    "papermill": {
     "duration": null,
     "end_time": null,
     "exception": null,
     "start_time": null,
     "status": "pending"
    },
    "tags": []
   },
   "source": [
    "#### Option 1 - Open Studio Debugger insights dashboard to get insights into the training job\n",
    "\n",
    "Through the Debugger insights dashboard on Studio, you can check the training jobs status, system resource utilization, and suggestions to optimize model performance. The following screenshot shows the Debugger insights dashboard interface.\n",
    "\n",
    "<IMG src=images/studio-debugger-insights-dashboard.png/>\n",
    "\n",
    "The following heatmap shows the `ml.p3.8xlarge` instance utilization while the training job is running or after the job has completed. To learn how to access the Debugger insights dashboard, see [Debugger on Studio](https://docs.aws.amazon.com/sagemaker/latest/dg/debugger-on-studio.html) in the [SageMaker Debugger developer guide](https://docs.aws.amazon.com/sagemaker/latest/dg/train-debugger.html).\n",
    "\n",
    "<IMG src=images/studio-debugger-insights-heatmap.png/>"
   ]
  },
  {
   "cell_type": "markdown",
   "metadata": {
    "papermill": {
     "duration": null,
     "end_time": null,
     "exception": null,
     "start_time": null,
     "status": "pending"
    },
    "tags": []
   },
   "source": [
    "#### Option 2 - Run the following scripts for the code-based option\n",
    "\n",
    "The following two code cells return the current training job name, status, and the rule status in real time."
   ]
  },
  {
   "cell_type": "markdown",
   "metadata": {
    "papermill": {
     "duration": null,
     "end_time": null,
     "exception": null,
     "start_time": null,
     "status": "pending"
    },
    "tags": []
   },
   "source": [
    "##### Print the training job name"
   ]
  },
  {
   "cell_type": "code",
   "execution_count": 18,
   "metadata": {
    "papermill": {
     "duration": null,
     "end_time": null,
     "exception": null,
     "start_time": null,
     "status": "pending"
    },
    "tags": []
   },
   "outputs": [
    {
     "name": "stdout",
     "output_type": "stream",
     "text": [
      "Training job name: tensorflow-training-2022-01-25-06-16-37-714\n"
     ]
    }
   ],
   "source": [
    "job_name = estimator.latest_training_job.name\n",
    "print(\"Training job name: {}\".format(job_name))"
   ]
  },
  {
   "cell_type": "markdown",
   "metadata": {
    "papermill": {
     "duration": null,
     "end_time": null,
     "exception": null,
     "start_time": null,
     "status": "pending"
    },
    "tags": []
   },
   "source": [
    "##### Print the training job and rule evaluation status\n",
    "\n",
    "The following script returns the status in real time every 15 seconds, until the secondary training status turns to one of the descriptions, `Training`, `Stopped`, `Completed`, or `Failed`. Once the training job status turns into the `Training`, you will be able to retrieve tensors from the default S3 bucket."
   ]
  },
  {
   "cell_type": "code",
   "execution_count": 19,
   "metadata": {
    "papermill": {
     "duration": null,
     "end_time": null,
     "exception": null,
     "start_time": null,
     "status": "pending"
    },
    "scrolled": true,
    "tags": []
   },
   "outputs": [],
   "source": [
    "import time\n",
    "\n",
    "client = estimator.sagemaker_session.sagemaker_client\n",
    "description = client.describe_training_job(TrainingJobName=job_name)\n",
    "if description[\"TrainingJobStatus\"] != \"Completed\":\n",
    "    while description[\"SecondaryStatus\"] not in {\"Training\", \"Stopped\", \"Completed\", \"Failed\"}:\n",
    "        description = client.describe_training_job(TrainingJobName=job_name)\n",
    "        primary_status = description[\"TrainingJobStatus\"]\n",
    "        secondary_status = description[\"SecondaryStatus\"]\n",
    "        print(\n",
    "            \"Current job status: [PrimaryStatus: {}, SecondaryStatus: {}] | {} Rule Evaluation Status: {}\".format(\n",
    "                primary_status,\n",
    "                secondary_status,\n",
    "                estimator.latest_training_job.rule_job_summary()[0][\"RuleConfigurationName\"],\n",
    "                estimator.latest_training_job.rule_job_summary()[0][\"RuleEvaluationStatus\"],\n",
    "            )\n",
    "        )\n",
    "        time.sleep(30)"
   ]
  },
  {
   "cell_type": "markdown",
   "metadata": {
    "papermill": {
     "duration": null,
     "end_time": null,
     "exception": null,
     "start_time": null,
     "status": "pending"
    },
    "tags": []
   },
   "source": [
    "<a class=\"anchor\" id=\"step6\"></a>\n",
    "## Step 6: Create a Debugger trial object to access the saved model parameters\n",
    "\n",
    "To access the saved tensors by Debugger, use the `smdebug` client library to create a Debugger trial object. The following code cell sets up a `tutorial_trial` object, and waits until it finds available tensors from the default S3 bucket."
   ]
  },
  {
   "cell_type": "code",
   "execution_count": 20,
   "metadata": {
    "papermill": {
     "duration": null,
     "end_time": null,
     "exception": null,
     "start_time": null,
     "status": "pending"
    },
    "scrolled": true,
    "tags": []
   },
   "outputs": [
    {
     "name": "stdout",
     "output_type": "stream",
     "text": [
      "[2022-01-25 06:33:55.991 tensorflow-2-1-cpu-py-ml-t3-medium-5412cd1de9a68eef8b9e1e29c67d:40 INFO s3_trial.py:42] Loading trial debug-output at path s3://sagemaker-us-east-1-524966505555/tensorflow-training-2022-01-25-06-16-37-714/debug-output\n"
     ]
    }
   ],
   "source": [
    "from smdebug.trials import create_trial\n",
    "\n",
    "tutorial_trial = create_trial(estimator.latest_job_debugger_artifacts_path())"
   ]
  },
  {
   "cell_type": "markdown",
   "metadata": {
    "papermill": {
     "duration": null,
     "end_time": null,
     "exception": null,
     "start_time": null,
     "status": "pending"
    },
    "tags": []
   },
   "source": [
    "The Debugger trial object accesses the SageMaker estimator's Debugger artifact path, and fetches the output tensors saved for debugging."
   ]
  },
  {
   "cell_type": "markdown",
   "metadata": {
    "papermill": {
     "duration": null,
     "end_time": null,
     "exception": null,
     "start_time": null,
     "status": "pending"
    },
    "tags": []
   },
   "source": [
    "#### Print the default S3 bucket URI where the Debugger output tensors are stored"
   ]
  },
  {
   "cell_type": "code",
   "execution_count": 21,
   "metadata": {
    "papermill": {
     "duration": null,
     "end_time": null,
     "exception": null,
     "start_time": null,
     "status": "pending"
    },
    "tags": []
   },
   "outputs": [
    {
     "data": {
      "text/plain": [
       "'s3://sagemaker-us-east-1-524966505555/tensorflow-training-2022-01-25-06-16-37-714/debug-output/'"
      ]
     },
     "execution_count": 21,
     "metadata": {},
     "output_type": "execute_result"
    }
   ],
   "source": [
    "tutorial_trial.path"
   ]
  },
  {
   "cell_type": "markdown",
   "metadata": {
    "papermill": {
     "duration": null,
     "end_time": null,
     "exception": null,
     "start_time": null,
     "status": "pending"
    },
    "tags": []
   },
   "source": [
    "#### Print the Debugger output tensor names"
   ]
  },
  {
   "cell_type": "code",
   "execution_count": 22,
   "metadata": {
    "papermill": {
     "duration": null,
     "end_time": null,
     "exception": null,
     "start_time": null,
     "status": "pending"
    },
    "tags": []
   },
   "outputs": [
    {
     "name": "stdout",
     "output_type": "stream",
     "text": [
      "[2022-01-25 06:33:57.571 tensorflow-2-1-cpu-py-ml-t3-medium-5412cd1de9a68eef8b9e1e29c67d:40 INFO trial.py:198] Training has ended, will refresh one final time in 1 sec.\n",
      "[2022-01-25 06:33:58.603 tensorflow-2-1-cpu-py-ml-t3-medium-5412cd1de9a68eef8b9e1e29c67d:40 INFO trial.py:210] Loaded all steps\n"
     ]
    },
    {
     "data": {
      "text/plain": [
       "['accuracy', 'batch', 'loss', 'val_accuracy', 'val_loss']"
      ]
     },
     "execution_count": 22,
     "metadata": {},
     "output_type": "execute_result"
    }
   ],
   "source": [
    "tutorial_trial.tensor_names()"
   ]
  },
  {
   "cell_type": "markdown",
   "metadata": {
    "papermill": {
     "duration": null,
     "end_time": null,
     "exception": null,
     "start_time": null,
     "status": "pending"
    },
    "tags": []
   },
   "source": [
    "#### Print the list of steps where the tensors are saved"
   ]
  },
  {
   "cell_type": "markdown",
   "metadata": {
    "papermill": {
     "duration": null,
     "end_time": null,
     "exception": null,
     "start_time": null,
     "status": "pending"
    },
    "tags": []
   },
   "source": [
    "The smdebug `ModeKeys` class provides training phase mode keys that you can use to sort training (`TRAIN`) and validation (`EVAL`) steps and their corresponding values."
   ]
  },
  {
   "cell_type": "code",
   "execution_count": 23,
   "metadata": {
    "papermill": {
     "duration": null,
     "end_time": null,
     "exception": null,
     "start_time": null,
     "status": "pending"
    },
    "tags": []
   },
   "outputs": [],
   "source": [
    "from smdebug.core.modes import ModeKeys"
   ]
  },
  {
   "cell_type": "code",
   "execution_count": 24,
   "metadata": {
    "papermill": {
     "duration": null,
     "end_time": null,
     "exception": null,
     "start_time": null,
     "status": "pending"
    },
    "tags": []
   },
   "outputs": [
    {
     "data": {
      "text/plain": [
       "[0,\n",
       " 500,\n",
       " 1000,\n",
       " 1500,\n",
       " 2000,\n",
       " 2500,\n",
       " 3000,\n",
       " 3500,\n",
       " 4000,\n",
       " 4500,\n",
       " 5000,\n",
       " 5500,\n",
       " 6000,\n",
       " 6500,\n",
       " 7000,\n",
       " 7500]"
      ]
     },
     "execution_count": 24,
     "metadata": {},
     "output_type": "execute_result"
    }
   ],
   "source": [
    "tutorial_trial.steps(mode=ModeKeys.TRAIN)"
   ]
  },
  {
   "cell_type": "code",
   "execution_count": 25,
   "metadata": {
    "papermill": {
     "duration": null,
     "end_time": null,
     "exception": null,
     "start_time": null,
     "status": "pending"
    },
    "tags": []
   },
   "outputs": [
    {
     "data": {
      "text/plain": [
       "[0, 312, 500, 625, 938, 1000, 1251, 1500, 1564]"
      ]
     },
     "execution_count": 25,
     "metadata": {},
     "output_type": "execute_result"
    }
   ],
   "source": [
    "tutorial_trial.steps(mode=ModeKeys.EVAL)"
   ]
  },
  {
   "cell_type": "markdown",
   "metadata": {
    "papermill": {
     "duration": null,
     "end_time": null,
     "exception": null,
     "start_time": null,
     "status": "pending"
    },
    "tags": []
   },
   "source": [
    "#### Plot the loss curve\n",
    "\n",
    "The following script plots the loss and accuracy curves of training and validation loops."
   ]
  },
  {
   "cell_type": "code",
   "execution_count": 26,
   "metadata": {
    "papermill": {
     "duration": null,
     "end_time": null,
     "exception": null,
     "start_time": null,
     "status": "pending"
    },
    "tags": []
   },
   "outputs": [],
   "source": [
    "trial = tutorial_trial\n",
    "\n",
    "\n",
    "def get_data(trial, tname, mode):\n",
    "    tensor = trial.tensor(tname)\n",
    "    steps = tensor.steps(mode=mode)\n",
    "    vals = [tensor.value(s, mode=mode) for s in steps]\n",
    "    return steps, vals"
   ]
  },
  {
   "cell_type": "code",
   "execution_count": 27,
   "metadata": {
    "papermill": {
     "duration": null,
     "end_time": null,
     "exception": null,
     "start_time": null,
     "status": "pending"
    },
    "tags": []
   },
   "outputs": [
    {
     "data": {
      "image/png": "[encoded data removed]",
      "text/plain": [
       "<Figure size 720x504 with 1 Axes>"
      ]
     },
     "metadata": {
      "needs_background": "light"
     },
     "output_type": "display_data"
    },
    {
     "data": {
      "image/png": "[encoded data removed]",
      "text/plain": [
       "<Figure size 720x504 with 1 Axes>"
      ]
     },
     "metadata": {
      "needs_background": "light"
     },
     "output_type": "display_data"
    }
   ],
   "source": [
    "import matplotlib.pyplot as plt\n",
    "from mpl_toolkits.axes_grid1 import host_subplot\n",
    "\n",
    "\n",
    "def plot_tensor(trial, tensor_name):\n",
    "\n",
    "    tensor_name = tensor_name\n",
    "    steps_train, vals_train = get_data(trial, tensor_name, mode=ModeKeys.TRAIN)\n",
    "    steps_eval, vals_eval = get_data(trial, tensor_name, mode=ModeKeys.EVAL)\n",
    "\n",
    "    fig = plt.figure(figsize=(10, 7))\n",
    "    host = host_subplot(111)\n",
    "\n",
    "    par = host.twiny()\n",
    "\n",
    "    host.set_xlabel(\"Steps (TRAIN)\")\n",
    "    par.set_xlabel(\"Steps (EVAL)\")\n",
    "    host.set_ylabel(tensor_name)\n",
    "\n",
    "    (p1,) = host.plot(steps_train, vals_train, label=tensor_name)\n",
    "    (p2,) = par.plot(steps_eval, vals_eval, label=\"val_\" + tensor_name)\n",
    "\n",
    "    leg = plt.legend()\n",
    "\n",
    "    host.xaxis.get_label().set_color(p1.get_color())\n",
    "    leg.texts[0].set_color(p1.get_color())\n",
    "\n",
    "    par.xaxis.get_label().set_color(p2.get_color())\n",
    "    leg.texts[1].set_color(p2.get_color())\n",
    "\n",
    "    plt.ylabel(tensor_name)\n",
    "\n",
    "    plt.show()\n",
    "\n",
    "\n",
    "plot_tensor(trial, \"loss\")\n",
    "plot_tensor(trial, \"accuracy\")"
   ]
  },
  {
   "cell_type": "markdown",
   "metadata": {},
   "source": [
    "> ## Note : Rerun the above cell if you don't see any plots! "
   ]
  },
  {
   "cell_type": "markdown",
   "metadata": {
    "papermill": {
     "duration": null,
     "end_time": null,
     "exception": null,
     "start_time": null,
     "status": "pending"
    },
    "tags": []
   },
   "source": [
    "## Conclusion\n",
    "\n",
    "In this tutorial, you learned how to use SageMaker Debugger with the minimal coding through SageMaker Studio and Jupyter notebook. The Debugger built-in rules detect training anomalies while concurrently reading in the output tensors, such as weights, activation outputs, gradients, accuracy, and loss, from your training jobs. In the next tutorial videos, you will learn more features of Debugger, such as how to analyze the tensors, change the built-in debugging rule parameters and thresholds, and save the tensors at your preferred S3 bucket URI."
   ]
  },
  {
   "cell_type": "code",
   "execution_count": null,
   "metadata": {
    "papermill": {
     "duration": null,
     "end_time": null,
     "exception": null,
     "start_time": null,
     "status": "pending"
    },
    "tags": []
   },
   "outputs": [],
   "source": []
  }
 ],
 "metadata": {
  "instance_type": "ml.t3.medium",
  "kernelspec": {
   "display_name": "Python 3 (TensorFlow 2.1 Python 3.6 CPU Optimized)",
   "language": "python",
   "name": "python3__SAGEMAKER_INTERNAL__arn:aws:sagemaker:us-east-1:081325390199:image/tensorflow-2.1-cpu-py36"
  },
  "language_info": {
   "codemirror_mode": {
    "name": "ipython",
    "version": 3
   },
   "file_extension": ".py",
   "mimetype": "text/x-python",
   "name": "python",
   "nbconvert_exporter": "python",
   "pygments_lexer": "ipython3",
   "version": "3.6.13"
  },
  "papermill": {
   "default_parameters": {},
   "duration": 3.063866,
   "end_time": "2021-06-01T00:12:50.004015",
   "environment_variables": {},
   "exception": true,
   "input_path": "tf-mnist-builtin-rule.ipynb",
   "output_path": "/opt/ml/processing/output/tf-mnist-builtin-rule-2021-06-01-00-09-02.ipynb",
   "parameters": {
    "kms_key": "arn:aws:kms:us-west-2:521695447989:key/6e9984db-50cf-4c7e-926c-877ec47a8b25"
   },
   "start_time": "2021-06-01T00:12:46.940149",
   "version": "2.3.3"
  }
 },
 "nbformat": 4,
 "nbformat_minor": 5
}
